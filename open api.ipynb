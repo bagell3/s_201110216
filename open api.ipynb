{
 "cells": [
  {
   "cell_type": "code",
   "execution_count": 19,
   "metadata": {
    "collapsed": false
   },
   "outputs": [
    {
     "name": "stdout",
     "output_type": "stream",
     "text": [
      "Overwriting src/key.properties\n"
     ]
    }
   ],
   "source": [
    "%%writefile src/key.properties\n",
    "dataseoul=455447476562616734367662765444\n",
    "gokr=WNL9y281Rn0LjcyCl3MyGhpxNA7OnTvhNjVkf7LhEz6MvBpDEpI07ZOGcnki9kaB8XfNdMeYWhLL7N%2BQZ237cQ%3D%3D"
   ]
  },
  {
   "cell_type": "code",
   "execution_count": 53,
   "metadata": {
    "collapsed": false
   },
   "outputs": [
    {
     "ename": "SyntaxError",
     "evalue": "invalid syntax (<ipython-input-53-3b0507d0750b>, line 3)",
     "output_type": "error",
     "traceback": [
      "\u001b[0;36m  File \u001b[0;32m\"<ipython-input-53-3b0507d0750b>\"\u001b[0;36m, line \u001b[0;32m3\u001b[0m\n\u001b[0;31m    gokr=WNL9y281Rn0LjcyCl3MyGhpxNA7OnTvhNjVkf7LhEz6MvBpDEpI07ZOGcnki9kaB8XfNdMeYWhLL7N%2BQZ237cQ%3D%3D\u001b[0m\n\u001b[0m                                                                                                ^\u001b[0m\n\u001b[0;31mSyntaxError\u001b[0m\u001b[0;31m:\u001b[0m invalid syntax\n"
     ]
    }
   ],
   "source": [
    "# %load src/key.properties\n",
    "dataseoul=455447476562616734367662765444\n",
    "gokr=WNL9y281Rn0LjcyCl3MyGhpxNA7OnTvhNjVkf7LhEz6MvBpDEpI07ZOGcnki9kaB8XfNdMeYWhLL7N%2BQZ237cQ%3D%3D"
   ]
  },
  {
   "cell_type": "code",
   "execution_count": 29,
   "metadata": {
    "collapsed": false
   },
   "outputs": [
    {
     "name": "stdout",
     "output_type": "stream",
     "text": [
      "Overwriting src/mylib.py\n",
      "\n"
     ]
    }
   ],
   "source": [
    "%%writefile src/mylib.py\n",
    "def sayHello():\n",
    "    print \"hello\"\n",
    "def sayHello2():\n",
    "    print \"hello hello\""
   ]
  },
  {
   "cell_type": "code",
   "execution_count": 31,
   "metadata": {
    "collapsed": false
   },
   "outputs": [],
   "source": [
    "import sys\n",
    "del sys.modules['src.mylib']"
   ]
  },
  {
   "cell_type": "code",
   "execution_count": 49,
   "metadata": {
    "collapsed": false
   },
   "outputs": [
    {
     "name": "stdout",
     "output_type": "stream",
     "text": [
      "hello\n",
      "hello hello\n"
     ]
    }
   ],
   "source": [
    "import src.mylib\n",
    "src.mylib.sayHello()\n",
    "src.mylib.sayHello2()\n"
   ]
  },
  {
   "cell_type": "code",
   "execution_count": 12,
   "metadata": {
    "collapsed": false
   },
   "outputs": [
    {
     "name": "stdout",
     "output_type": "stream",
     "text": [
      " C 드라이브의 볼륨에는 이름이 없습니다.\n",
      " 볼륨 일련 번호: A49F-0284\n",
      "\n",
      " C:\\Users\\400T6B\\Code\\s_201110216\\src 디렉터리\n",
      "\n",
      "2017-04-18  오후 05:09    <DIR>          .\n",
      "2017-04-18  오후 05:09    <DIR>          ..\n",
      "2017-03-28  오후 04:18    <DIR>          .ipynb_checkpoints\n",
      "2017-03-14  오후 05:49             2,835 3.14.ipynb\n",
      "2017-03-28  오후 04:17            43,230 3.20.ipynb\n",
      "2017-03-14  오후 04:10             8,612 3m.ipynb\n",
      "2017-04-17  오후 12:50               165 ds_save_mongo_5.js\n",
      "2017-04-17  오후 12:51               180 ds_save_mongo_6.js\n",
      "2017-04-17  오후 12:47                79 ds_save_mongo_test.js\n",
      "2017-04-03  오후 12:09               305 ds_web_crawl234_1.py\n",
      "2017-04-03  오후 12:10               646 ds_web_crawl234_5.py\n",
      "2017-03-28  오후 05:33               374 ds_web_crawl_ieee.py\n",
      "2017-04-03  오후 12:46               614 ds_web_crawl_kbaseball.py\n",
      "2017-04-18  오후 04:29               141 key.properties\n",
      "2017-03-28  오후 04:19               949 my.xml\n",
      "2017-04-18  오후 05:09               313 mylib.py\n",
      "2017-04-18  오후 05:09               765 mylib.pyc\n",
      "2017-03-20  오후 12:23               233 mypage1.html\n",
      "2017-03-28  오후 04:22             1,108 mypage3.html\n",
      "2017-04-03  오후 12:11            14,189 s_201110216-master.zip\n",
      "2017-03-14  오후 04:44               284 test.fy\n",
      "2017-04-18  오후 05:09                 9 __init__.py\n",
      "2017-04-18  오후 05:07               126 __init__.pyc\n",
      "              20개 파일              75,157 바이트\n",
      "               3개 디렉터리  805,355,147,264 바이트 남음\n"
     ]
    }
   ],
   "source": [
    "!dir src\\"
   ]
  },
  {
   "cell_type": "code",
   "execution_count": 46,
   "metadata": {
    "collapsed": false
   },
   "outputs": [
    {
     "name": "stdout",
     "output_type": "stream",
     "text": [
      "Overwriting src/__init__.py\n"
     ]
    }
   ],
   "source": [
    "%%writefile src/__init__.py\n",
    "import os"
   ]
  },
  {
   "cell_type": "code",
   "execution_count": 47,
   "metadata": {
    "collapsed": false
   },
   "outputs": [],
   "source": [
    "import os\n",
    "import src.mylib\n"
   ]
  },
  {
   "cell_type": "code",
   "execution_count": 48,
   "metadata": {
    "collapsed": false
   },
   "outputs": [],
   "source": [
    "import os\n",
    "d=dict()\n",
    "keyPath=os.path.join('src','key.properties')\n",
    "f=open(keyPath,'r')\n",
    "for line in f.readlines():\n",
    "    row=line.split('=')\n",
    "    d[row[0]]=row[1].strip()"
   ]
  },
  {
   "cell_type": "code",
   "execution_count": 42,
   "metadata": {
    "collapsed": false
   },
   "outputs": [
    {
     "name": "stdout",
     "output_type": "stream",
     "text": [
      "WNL9y281Rn0LjcyCl3MyGhpxNA7OnTvhNjVkf7LhEz6MvBpDEpI07ZOGcnki9kaB8XfNdMeYWhLL7N%2BQZ237cQ%3D%3D 455447476562616734367662765444\n"
     ]
    }
   ],
   "source": [
    "print d['gokr'], d['dataseoul']"
   ]
  },
  {
   "cell_type": "code",
   "execution_count": 43,
   "metadata": {
    "collapsed": false
   },
   "outputs": [
    {
     "name": "stdout",
     "output_type": "stream",
     "text": [
      "gokr= WNL9y281Rn0LjcyCl3MyGhpxNA7OnTvhNjVkf7LhEz6MvBpDEpI07ZOGcnki9kaB8XfNdMeYWhLL7N%2BQZ237cQ%3D%3D\n",
      "dataseoul= 455447476562616734367662765444\n"
     ]
    }
   ],
   "source": [
    "def getKey(keyPath):\n",
    "    d=dict()\n",
    "    f=open(keyPath,'r')\n",
    "    for line in f.readlines():\n",
    "        row=line.split('=')\n",
    "        row0=row[0]\n",
    "        d[row0]=row[1].strip()\n",
    "    return d\n",
    "KEY=getKey(os.path.join('src', 'key.properties'))\n",
    "print 'gokr=',KEY['gokr']\n",
    "print 'dataseoul=',KEY['dataseoul']"
   ]
  },
  {
   "cell_type": "code",
   "execution_count": 52,
   "metadata": {
    "collapsed": false
   },
   "outputs": [
    {
     "name": "stdout",
     "output_type": "stream",
     "text": [
      "Overwriting src/mylib.py\n"
     ]
    }
   ],
   "source": [
    "%%writefile src/mylib.py\n",
    "import os\n",
    "\n",
    "def sayHello():\n",
    "    print \"hello\"\n",
    "def sayHello2():\n",
    "    print \"hello\"\n",
    "\n",
    "def getKey(keyPath):\n",
    "    d=dict()\n",
    "    f=open(keyPath,'r')\n",
    "    for line in f.readlines():\n",
    "        row=line.split('=')\n",
    "        row0=row[0]\n",
    "        d[row0]=row[1].strip()\n",
    "    return d\n",
    "KEY=getKey(os.path.join('src', 'key.properties'))\n"
   ]
  },
  {
   "cell_type": "code",
   "execution_count": 51,
   "metadata": {
    "collapsed": false
   },
   "outputs": [
    {
     "name": "stdout",
     "output_type": "stream",
     "text": [
      "gokr= WNL9y281Rn0LjcyCl3MyGhpxNA7OnTvhNjVkf7LhEz6MvBpDEpI07ZOGcnki9kaB8XfNdMeYWhLL7N%2BQZ237cQ%3D%3D\n",
      "dataseoul= 455447476562616734367662765444\n"
     ]
    }
   ],
   "source": [
    "import os\n",
    "\n",
    "\n",
    "print 'gokr=',KEY['gokr']\n",
    "print 'dataseoul=',KEY['dataseoul']"
   ]
  }
 ],
 "metadata": {
  "kernelspec": {
   "display_name": "Python 2",
   "language": "python",
   "name": "python2"
  },
  "language_info": {
   "codemirror_mode": {
    "name": "ipython",
    "version": 2
   },
   "file_extension": ".py",
   "mimetype": "text/x-python",
   "name": "python",
   "nbconvert_exporter": "python",
   "pygments_lexer": "ipython2",
   "version": "2.7.13"
  }
 },
 "nbformat": 4,
 "nbformat_minor": 2
}
