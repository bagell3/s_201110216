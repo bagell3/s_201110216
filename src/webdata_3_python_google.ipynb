{
 "cells": [
  {
   "cell_type": "code",
   "execution_count": 89,
   "metadata": {
    "collapsed": false
   },
   "outputs": [
    {
     "name": "stdout",
     "output_type": "stream",
     "text": [
      "Writing src/web_data_3.py\n"
     ]
    }
   ],
   "source": [
    "%%writefile src/web_data_3.py\n",
    "import lxml.html\n",
    "from lxml.cssselect import CSSSelector\n",
    "import requests\n",
    "\n",
    "url = requests.get('http://www.google.com/search?q=python')\n",
    "tree = lxml.html.fromstring(url.text)\n",
    "link = CSSSelector('a[href]')\n",
    "lines = link(tree)\n",
    "print len(save)\n",
    "\n",
    "for line in lines:\n",
    "    save = lxml.html.tostring(line)\n",
    "    if 'https://' in save:\n",
    "        print save \n",
    "        print "
   ]
  }
 ],
 "metadata": {
  "kernelspec": {
   "display_name": "Python 2",
   "language": "python",
   "name": "python2"
  },
  "language_info": {
   "codemirror_mode": {
    "name": "ipython",
    "version": 2
   },
   "file_extension": ".py",
   "mimetype": "text/x-python",
   "name": "python",
   "nbconvert_exporter": "python",
   "pygments_lexer": "ipython2",
   "version": "2.7.13"
  }
 },
 "nbformat": 4,
 "nbformat_minor": 2
}
