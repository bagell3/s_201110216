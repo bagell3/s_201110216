{
 "cells": [
  {
   "cell_type": "code",
   "execution_count": 4,
   "metadata": {
    "collapsed": false,
    "scrolled": true
   },
   "outputs": [
    {
     "name": "stdout",
     "output_type": "stream",
     "text": [
      "Writing src/miniproject.py\n"
     ]
    }
   ],
   "source": [
    "import os\n",
    "import requests\n",
    "import re\n",
    "import pprint\n",
    "\n",
    "\n",
    "\n",
    "class MyPrettyPrinter(pprint.PrettyPrinter):\n",
    "\tdef format(self, _object, context, maxlevels, level):\n",
    "\t\tif isinstance(_object, unicode):\n",
    "\t\t\treturn \"'%s'\" % _object.encode('utf8'), True, False\n",
    "\t\telif isinstance(_object, str):\n",
    "\t\t\t_object = unicode(_object,'utf8')\n",
    "\t\t\treturn \"'%s'\" % _object.encode('utf8'), True, False\n",
    "\t\treturn pprint.PrettyPrinter.format(self, _object, context, maxlevels, level)\n",
    "\n",
    "APT='http://data.suwon.go.kr/suwon/openapi/service/getDataList.api?serviceId=aptjw&&pageNo=2&startDate=2011&endDate=2011&serviceKey=d0d29eb681434f339ee9a73664baef1f170417223236'\n",
    "\n",
    "data=requests.get(APT).text\n",
    "\n",
    "p=re.compile('<excluArea>(.+?)</excluArea>')\n",
    "res=p.findall(data)\n",
    "\n",
    "q=re.compile('<insurValue>(.+?)</insurValue>')\n",
    "respon=q.findall(data)\n",
    "\n",
    "r=re.compile('<bjdong>(.+?)</bjdong>')\n",
    "BJdong=r.findall(data)\n",
    "\n",
    "area=[]\n",
    "price=[]\n",
    "dong=[]\n",
    "\n",
    "for item in res:\n",
    "    x=item\n",
    "    x=x.encode('raw_unicode_escape')\n",
    "    area.append(x)\n",
    "for item1 in respon:\n",
    "    y=item1\n",
    "    y=y.encode('raw_unicode_escape')\n",
    "    price.append(y)\n",
    "for item2 in BJdong:\n",
    "    z=item2\n",
    "    dong.append(z)\n",
    "    \n",
    "print area\n",
    "print price\n",
    "print MyPrettyPrinter().pformat(dong)\n"
   ]
  },
  {
   "cell_type": "code",
   "execution_count": 30,
   "metadata": {
    "collapsed": false,
    "scrolled": false
   },
   "outputs": [
    {
     "name": "stdout",
     "output_type": "stream",
     "text": [
      "[84.84, 84.64, 100.94, 59.81, 134.67, 59.96, 59.59, 59.59, 84.88, 59.99]\n",
      "['12,500', '6,500', '19,000', '14,000', '18,000', '9,500', '14,000', '14,000', '17,000', '12,000']\n",
      "['곡반정동',\n",
      " '권선동',\n",
      " '권선동',\n",
      " '권선동',\n",
      " '권선동',\n",
      " '권선동',\n",
      " '권선동',\n",
      " '권선동',\n",
      " '권선동',\n",
      " '권선동']\n"
     ]
    }
   ],
   "source": [
    "\n",
    "\n",
    "import requests\n",
    "import re\n",
    "import pprint\n",
    "\n",
    "class MyPrettyPrinter(pprint.PrettyPrinter):\n",
    "\tdef format(self, _object, context, maxlevels, level):\n",
    "\t\tif isinstance(_object, unicode):\n",
    "\t\t\treturn \"'%s'\" % _object.encode('utf8'), True, False\n",
    "\t\telif isinstance(_object, str):\n",
    "\t\t\t_object = unicode(_object,'utf8')\n",
    "\t\t\treturn \"'%s'\" % _object.encode('utf8'), True, False\n",
    "\t\treturn pprint.PrettyPrinter.format(self, _object, context, maxlevels, level)\n",
    "\n",
    "\n",
    "APT='http://data.suwon.go.kr/suwon/openapi/service/getDataList.api?serviceId=aptjw&serviceKey=d0d29eb681434f339ee9a73664baef1f170417223236'\n",
    "data=requests.get(APT).text\n",
    "\n",
    "\n",
    "p=re.compile('<excluArea>(.+?)</excluArea>')\n",
    "res=p.findall(data)\n",
    "\n",
    "q=re.compile('<insurValue>(.+?)</insurValue>')\n",
    "respon=q.findall(data)\n",
    "\n",
    "r=re.compile('<bjdong>(.+?)</bjdong>')\n",
    "BJdong=r.findall(data)\n",
    "\n",
    "area=[]\n",
    "price=[]\n",
    "dong=[]\n",
    "\n",
    "for item in res:\n",
    "    x=float(item)\n",
    "    area.append(x)\n",
    "for item1 in respon:\n",
    "    y=item1\n",
    "    y=y.encode('raw_unicode_escape')\n",
    "    \n",
    "    price.append(y)\n",
    "for item2 in BJdong:\n",
    "    z=item2\n",
    "    dong.append(z)\n",
    "    \n",
    "print area\n",
    "print price\n",
    "print MyPrettyPrinter().pformat(dong)\n"
   ]
  },
  {
   "cell_type": "code",
   "execution_count": 52,
   "metadata": {
    "collapsed": true
   },
   "outputs": [
    {
     "name": "stdout",
     "output_type": "stream",
     "text": [
      "<?xml version=\"1.0\" encoding=\"UTF-8\"?>\r\n",
      "<response>\r\n",
      "  <header>\r\n",
      "    <resultMsg>SUWON OPENAPI SERVICE</resultMsg>\r\n",
      "  </header>\r\n",
      "  <body>\r\n",
      "    <items>\r\n",
      "      <item>\r\n",
      "        <apt>삼성</apt>\r\n",
      "        <jibun>580</jibun>\r\n",
      "        <excluArea>84.84</excluArea>\r\n",
      "        <year>2011</year>\r\n",
      "        <month>1</month>\r\n",
      "        <day>11&amp;#126;20</day>\r\n",
      "        <insurValue>12,500</insurValue>\r\n",
      "        <monthValue>0</monthValue>\r\n",
      "        <floor>15</floor>\r\n",
      "        <bjdong>곡반정동</bjdong>\r\n",
      "      </item>\r\n",
      "      <item>\r\n",
      "        <apt>권선SKVIEW</apt>\r\n",
      "        <jibun>1035</jibun>\r\n",
      "        <excluArea>84.64</excluArea>\r\n",
      "        <year>2011</year>\r\n",
      "        <month>1</month>\r\n",
      "        <day>1&amp;#126;10</day>\r\n",
      "        <insurValue>6,500</insurValue>\r\n",
      "        <monthValue>50</monthValue>\r\n",
      "        <floor>13</floor>\r\n",
      "        <bjdong>권선동</bjdong>\r\n",
      "      </item>\r\n",
      "      <item>\r\n",
      "        <apt>권선SKVIEW</apt>\r\n",
      "        <jibun>1035</jibun>\r\n",
      "        <excluArea>100.94</excluArea>\r\n",
      "        <year>2011</year>\r\n",
      "        <month>1</month>\r\n",
      "        <day>1&amp;#126;10</day>\r\n",
      "        <insurValue>19,000</insurValue>\r\n",
      "        <monthValue>0</monthValue>\r\n",
      "        <floor>5</floor>\r\n",
      "        <bjdong>권선동</bjdong>\r\n",
      "      </item>\r\n",
      "      <item>\r\n",
      "        <apt>권선3지구주공3</apt>\r\n",
      "        <jibun>1304</jibun>\r\n",
      "        <excluArea>59.81</excluArea>\r\n",
      "        <year>2011</year>\r\n",
      "        <month>1</month>\r\n",
      "        <day>1&amp;#126;10</day>\r\n",
      "        <insurValue>14,000</insurValue>\r\n",
      "        <monthValue>0</monthValue>\r\n",
      "        <floor>10</floor>\r\n",
      "        <bjdong>권선동</bjdong>\r\n",
      "      </item>\r\n",
      "      <item>\r\n",
      "        <apt>두산동아</apt>\r\n",
      "        <jibun>1199-1</jibun>\r\n",
      "        <excluArea>134.67</excluArea>\r\n",
      "        <year>2011</year>\r\n",
      "        <month>1</month>\r\n",
      "        <day>1&amp;#126;10</day>\r\n",
      "        <insurValue>18,000</insurValue>\r\n",
      "        <monthValue>0</monthValue>\r\n",
      "        <floor>8</floor>\r\n",
      "        <bjdong>권선동</bjdong>\r\n",
      "      </item>\r\n",
      "      <item>\r\n",
      "        <apt>삼천리2차</apt>\r\n",
      "        <jibun>1238</jibun>\r\n",
      "        <excluArea>59.96</excluArea>\r\n",
      "        <year>2011</year>\r\n",
      "        <month>1</month>\r\n",
      "        <day>1&amp;#126;10</day>\r\n",
      "        <insurValue>9,500</insurValue>\r\n",
      "        <monthValue>0</monthValue>\r\n",
      "        <floor>5</floor>\r\n",
      "        <bjdong>권선동</bjdong>\r\n",
      "      </item>\r\n",
      "      <item>\r\n",
      "        <apt>상록3단지</apt>\r\n",
      "        <jibun>1303</jibun>\r\n",
      "        <excluArea>59.59</excluArea>\r\n",
      "        <year>2011</year>\r\n",
      "        <month>1</month>\r\n",
      "        <day>1&amp;#126;10</day>\r\n",
      "        <insurValue>14,000</insurValue>\r\n",
      "        <monthValue>0</monthValue>\r\n",
      "        <floor>15</floor>\r\n",
      "        <bjdong>권선동</bjdong>\r\n",
      "      </item>\r\n",
      "      <item>\r\n",
      "        <apt>상록3단지</apt>\r\n",
      "        <jibun>1303</jibun>\r\n",
      "        <excluArea>59.59</excluArea>\r\n",
      "        <year>2011</year>\r\n",
      "        <month>1</month>\r\n",
      "        <day>1&amp;#126;10</day>\r\n",
      "        <insurValue>14,000</insurValue>\r\n",
      "        <monthValue>0</monthValue>\r\n",
      "        <floor>10</floor>\r\n",
      "        <bjdong>권선동</bjdong>\r\n",
      "      </item>\r\n",
      "      <item>\r\n",
      "        <apt>권선SKVIEW</apt>\r\n",
      "        <jibun>1035</jibun>\r\n",
      "        <excluArea>84.88</excluArea>\r\n",
      "        <year>2011</year>\r\n",
      "        <month>1</month>\r\n",
      "        <day>1&amp;#126;10</day>\r\n",
      "        <insurValue>17,000</insurValue>\r\n",
      "        <monthValue>0</monthValue>\r\n",
      "        <floor>9</floor>\r\n",
      "        <bjdong>권선동</bjdong>\r\n",
      "      </item>\r\n",
      "      <item>\r\n",
      "        <apt>우남1</apt>\r\n",
      "        <jibun>1315</jibun>\r\n",
      "        <excluArea>59.99</excluArea>\r\n",
      "        <year>2011</year>\r\n",
      "        <month>1</month>\r\n",
      "        <day>1&amp;#126;10</day>\r\n",
      "        <insurValue>12,000</insurValue>\r\n",
      "        <monthValue>0</monthValue>\r\n",
      "        <floor>1</floor>\r\n",
      "        <bjdong>권선동</bjdong>\r\n",
      "      </item>\r\n",
      "    </items>\r\n",
      "    <numOfRows>10</numOfRows>\r\n",
      "    <pageNo>1</pageNo>\r\n",
      "    <totalPage>5626</totalPage>\r\n",
      "    <totalCount>56259</totalCount>\r\n",
      "  </body>\r\n",
      "</response>\r\n",
      "\r\n",
      "\n"
     ]
    }
   ],
   "source": [
    "import requests\n",
    "import re\n",
    "APT='http://data.suwon.go.kr/suwon/openapi/service/getDataList.api?serviceId=aptjw&serviceKey=d0d29eb681434f339ee9a73664baef1f170417223236'\n",
    "data=requests.get(APT).text\n",
    "print data\n",
    "p=re.compile('<excluArea>(.+?)</excluArea>')\n",
    "res=p.findall(data)\n",
    "q=re.compile('<insurValue>(.+?)</insurValue>')\n",
    "respon=q.findall(data)\n"
   ]
  },
  {
   "cell_type": "code",
   "execution_count": null,
   "metadata": {
    "collapsed": true
   },
   "outputs": [],
   "source": []
  },
  {
   "cell_type": "code",
   "execution_count": 63,
   "metadata": {
    "collapsed": true
   },
   "outputs": [
    {
     "name": "stdout",
     "output_type": "stream",
     "text": [
      "['84.84', '84.64', '100.94', '59.81', '134.67', '59.96', '59.59', '59.59', '84.88', '59.99']\n",
      "['12,500', '6,500', '19,000', '14,000', '18,000', '9,500', '14,000', '14,000', '17,000', '12,000']\n",
      "['\\\\uace1\\\\ubc18\\\\uc815\\\\ub3d9', '\\\\uad8c\\\\uc120\\\\ub3d9', '\\\\uad8c\\\\uc120\\\\ub3d9', '\\\\uad8c\\\\uc120\\\\ub3d9', '\\\\uad8c\\\\uc120\\\\ub3d9', '\\\\uad8c\\\\uc120\\\\ub3d9', '\\\\uad8c\\\\uc120\\\\ub3d9', '\\\\uad8c\\\\uc120\\\\ub3d9', '\\\\uad8c\\\\uc120\\\\ub3d9', '\\\\uad8c\\\\uc120\\\\ub3d9']\n"
     ]
    }
   ],
   "source": [
    "#-*- coding: utf-8 -*-\n",
    "import requests\n",
    "import re\n",
    "\n",
    "\n",
    "APT='http://data.suwon.go.kr/suwon/openapi/service/getDataList.api?serviceId=aptjw&serviceKey=d0d29eb681434f339ee9a73664baef1f170417223236'\n",
    "data=requests.get(APT).text\n",
    "\n",
    "\n",
    "p=re.compile('<excluArea>(.+?)</excluArea>')\n",
    "res=p.findall(data)\n",
    "\n",
    "q=re.compile('<insurValue>(.+?)</insurValue>')\n",
    "respon=q.findall(data)\n",
    "\n",
    "r=re.compile('<bjdong>(.+?)</bjdong>')\n",
    "BJdong=r.findall(data)\n",
    "\n",
    "area=[]\n",
    "price=[]\n",
    "dong=[]\n",
    "\n",
    "for item in res:\n",
    "    x=item\n",
    "    x=x.encode('raw_unicode_escape')\n",
    "    area.append(x)\n",
    "for item1 in respon:\n",
    "    y=item1\n",
    "    y=y.encode('raw_unicode_escape')\n",
    "    price.append(y)\n",
    "for item2 in BJdong:\n",
    "    z=item2\n",
    "    z=z.encode('raw_unicode_escape')\n",
    "    dong.append(z)\n",
    "\n",
    "print area\n",
    "print price\n",
    "print dong"
   ]
  },
  {
   "cell_type": "code",
   "execution_count": 84,
   "metadata": {
    "collapsed": false
   },
   "outputs": [
    {
     "name": "stdout",
     "output_type": "stream",
     "text": [
      "{'_id': '12345', 'kind': 'abc', 'name': '가나다'}\n"
     ]
    }
   ],
   "source": [
    "import pprint\n",
    "d={\n",
    "\t'_id':'12345',\n",
    "\t'kind':'abc',\n",
    "\t'name':'가나다'\n",
    "}\n",
    "class MyPrettyPrinter(pprint.PrettyPrinter):\n",
    "\tdef format(self, _object, context, maxlevels, level):\n",
    "\t\tif isinstance(_object, unicode):\n",
    "\t\t\treturn \"'%s'\" % _object.encode('utf8'), True, False\n",
    "\t\telif isinstance(_object, str):\n",
    "\t\t\t_object = unicode(_object,'utf8')\n",
    "\t\t\treturn \"'%s'\" % _object.encode('utf8'), True, False\n",
    "\t\treturn pprint.PrettyPrinter.format(self, _object, context, maxlevels, level)\n",
    "    \n",
    "\n",
    "print MyPrettyPrinter().pformat(d)"
   ]
  },
  {
   "cell_type": "code",
   "execution_count": 122,
   "metadata": {
    "collapsed": false
   },
   "outputs": [
    {
     "data": {
      "text/plain": [
       "0.5"
      ]
     },
     "execution_count": 122,
     "metadata": {},
     "output_type": "execute_result"
    }
   ],
   "source": [
    "fefe=[1,2,3]\n",
    "fefefe=[4,5,6]\n",
    "float(fefe[2])/float(fefefe[2])\n",
    "\n"
   ]
  }
 ],
 "metadata": {
  "kernelspec": {
   "display_name": "Python 2",
   "language": "python",
   "name": "python2"
  },
  "language_info": {
   "codemirror_mode": {
    "name": "ipython",
    "version": 2
   },
   "file_extension": ".py",
   "mimetype": "text/x-python",
   "name": "python",
   "nbconvert_exporter": "python",
   "pygments_lexer": "ipython2",
   "version": "2.7.13"
  }
 },
 "nbformat": 4,
 "nbformat_minor": 2
}
