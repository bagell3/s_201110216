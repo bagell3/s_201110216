{
 "cells": [
  {
   "cell_type": "code",
   "execution_count": 12,
   "metadata": {
    "collapsed": false
   },
   "outputs": [
    {
     "name": "stdout",
     "output_type": "stream",
     "text": [
      "Overwriting mypage1.html\n"
     ]
    }
   ],
   "source": [
    "%%writefile mypage1.html\n",
    "<!DOCTYPE html>\n",
    "<html>\n",
    "<head>\n",
    "<title>My Home Page</title>\n",
    "</head>\n",
    "<body>\n",
    "<h1>안녕하십니까</h1>\n",
    "<p>오늘은 프로그래밍 하는 날...</p>\n",
    "<p>Today we do programming...</p>\n",
    "</body>\n",
    "</html>"
   ]
  },
  {
   "cell_type": "code",
   "execution_count": 4,
   "metadata": {
    "collapsed": false
   },
   "outputs": [
    {
     "name": "stdout",
     "output_type": "stream",
     "text": [
      "file://localhostC:\\Users\\400T6B\\Code\\s_201110216\\src\\src/mypage1.html\n"
     ]
    },
    {
     "data": {
      "text/plain": [
       "True"
      ]
     },
     "execution_count": 4,
     "metadata": {},
     "output_type": "execute_result"
    }
   ],
   "source": [
    "import webbrowser\n",
    "import os\n",
    "\n",
    "myuri='file://'+'localhost'+os.path.join(os.getcwd(), 'src/mypage1.html')\n",
    "print myuri\n",
    "webbrowser.open(myuri)"
   ]
  },
  {
   "cell_type": "code",
   "execution_count": 13,
   "metadata": {
    "collapsed": false
   },
   "outputs": [
    {
     "name": "stdout",
     "output_type": "stream",
     "text": [
      "Overwriting mypage1.html\n"
     ]
    }
   ],
   "source": [
    "%%writefile mypage1.html\n",
    "<!DOCTYPE html>\n",
    "<html>\n",
    "<head>\n",
    "<meta charset=\"UTF-8\">\n",
    "<title>My Home Page</title>\n",
    "</head>\n",
    "<body>\n",
    "<h1>안녕하십니까</h1>\n",
    "<p>오늘은 프로그래밍 하는 날...</p>\n",
    "<p>Today we do programming...</p>\n",
    "\n",
    "</body>\n",
    "</html>"
   ]
  },
  {
   "cell_type": "code",
   "execution_count": 11,
   "metadata": {
    "collapsed": false
   },
   "outputs": [
    {
     "data": {
      "text/html": [
       "<!DOCTYPE html>\n",
       "<html>\n",
       "<head>\n",
       "<title>My Home Page</title>\n",
       "</head>\n",
       "<body>\n",
       "<h1>안녕하십니까</h1>\n",
       "<p>오늘은 프로그래밍 하는 날...</p>\n",
       "<p>Today we do programming...</p>\n",
       "</body>\n",
       "</html>"
      ],
      "text/plain": [
       "<IPython.core.display.HTML object>"
      ]
     },
     "metadata": {},
     "output_type": "display_data"
    }
   ],
   "source": [
    "%%HTML\n",
    "<!DOCTYPE html>\n",
    "<html>\n",
    "<head>\n",
    "<title>My Home Page</title>\n",
    "</head>\n",
    "<body>\n",
    "<h1>안녕하십니까</h1>\n",
    "<p>오늘은 프로그래밍 하는 날...</p>\n",
    "<p>Today we do programming...</p>\n",
    "</body>\n",
    "</html>"
   ]
  },
  {
   "cell_type": "code",
   "execution_count": 15,
   "metadata": {
    "collapsed": false
   },
   "outputs": [
    {
     "name": "stdout",
     "output_type": "stream",
     "text": [
      "a=4&c=2016&b=20&e=30&d=6&f=2016&s=%5EKS11\n"
     ]
    }
   ],
   "source": [
    "import urllib\n",
    "params = urllib.urlencode({\"a\":4,\"b\":20,\"c\":2016,\"d\":6,\"e\":30,\"f\":2016,\"s\":\"^KS11\"})\n",
    "print params"
   ]
  },
  {
   "cell_type": "code",
   "execution_count": 17,
   "metadata": {
    "collapsed": false
   },
   "outputs": [
    {
     "name": "stdout",
     "output_type": "stream",
     "text": [
      "%23q=python+tutorial\n"
     ]
    }
   ],
   "source": [
    "import urllib\n",
    "params = urllib.urlencode({\"#q\": \"python tutorial\"})\n",
    "print params"
   ]
  },
  {
   "cell_type": "code",
   "execution_count": 19,
   "metadata": {
    "collapsed": false
   },
   "outputs": [
    {
     "name": "stdout",
     "output_type": "stream",
     "text": [
      "%7E\n",
      "~\n"
     ]
    }
   ],
   "source": [
    "print urllib.quote('~');\n",
    "print urllib.quote('~', safe='~');"
   ]
  },
  {
   "cell_type": "code",
   "execution_count": 20,
   "metadata": {
    "collapsed": false
   },
   "outputs": [
    {
     "name": "stdout",
     "output_type": "stream",
     "text": [
      "%20\n",
      "+\n"
     ]
    }
   ],
   "source": [
    "print urllib.quote(' ')\n",
    "print urllib.quote_plus(' ')"
   ]
  },
  {
   "cell_type": "code",
   "execution_count": 21,
   "metadata": {
    "collapsed": false
   },
   "outputs": [
    {
     "name": "stdout",
     "output_type": "stream",
     "text": [
      "http://www.google.com/#q=python+tutorial\n"
     ]
    }
   ],
   "source": [
    "url = 'http://www.google.com/#q='\n",
    "print url + urllib.quote_plus('python tutorial')"
   ]
  },
  {
   "cell_type": "code",
   "execution_count": 3,
   "metadata": {
    "collapsed": true
   },
   "outputs": [],
   "source": [
    "import urllib2\n",
    "response = urllib2.urlopen(\"https://www.python.org/\")\n",
    "html=response.read()\n",
    "response.close()"
   ]
  },
  {
   "cell_type": "code",
   "execution_count": 5,
   "metadata": {
    "collapsed": false
   },
   "outputs": [
    {
     "name": "stdout",
     "output_type": "stream",
     "text": [
      "<!doctype html>\n",
      "<!--[if lt IE 7]>   <html class=\"no-js ie6 lt-ie7 lt-ie8 lt-ie9\">   <![endif]-->\n",
      "<!--[if IE 7]>      <html class=\"no-js ie7 lt-ie8 lt-ie9\">          <![endif]-->\n",
      "<!--[if IE 8]>      <html class=\"no-js ie8 lt-ie9\">                 <![endif]-->\n",
      "<!--[if gt IE 8]><!--><html class=\"no-js\" lang=\"en\" dir=\"ltr\">  <!--<![endif]-->\n",
      "\n",
      "<head>\n",
      "    <meta charset=\"utf-8\">\n",
      "    <meta http-equiv=\"X-UA-Compatible\" content=\"IE=edge\">\n",
      "\n",
      "    <link rel=\"prefetch\" href=\"//ajax.googleapis.com/ajax/libs/jqu\n"
     ]
    }
   ],
   "source": [
    "import urllib2\n",
    "url = 'http://www.python.org'\n",
    "request = urllib2.Request(url)\n",
    "response = urllib2.urlopen(request)\n",
    "html = response.read()\n",
    "print html[:500]"
   ]
  },
  {
   "cell_type": "code",
   "execution_count": 8,
   "metadata": {
    "collapsed": false
   },
   "outputs": [
    {
     "data": {
      "text/plain": [
       "str"
      ]
     },
     "execution_count": 8,
     "metadata": {},
     "output_type": "execute_result"
    }
   ],
   "source": [
    "type(html)"
   ]
  },
  {
   "cell_type": "code",
   "execution_count": 7,
   "metadata": {
    "collapsed": false
   },
   "outputs": [
    {
     "data": {
      "text/plain": [
       "instance"
      ]
     },
     "execution_count": 7,
     "metadata": {},
     "output_type": "execute_result"
    }
   ],
   "source": [
    "type(response)"
   ]
  },
  {
   "cell_type": "code",
   "execution_count": null,
   "metadata": {
    "collapsed": true
   },
   "outputs": [],
   "source": [
    "print html[:10]"
   ]
  },
  {
   "cell_type": "code",
   "execution_count": null,
   "metadata": {
    "collapsed": true
   },
   "outputs": [],
   "source": [
    "req = urllib2.Request('http://www.python.org/fish.html')\n",
    "\n",
    "try:\n",
    "    response=urllib2.urlopen(req)\n",
    "except urllib2.HTTPError, e:\n",
    "    print e.code, e.reason\n",
    "\n",
    "if html is None:\n",
    "    print(\"URL is not found\")\n",
    "else:\n",
    "    print \"html has something!\""
   ]
  },
  {
   "cell_type": "code",
   "execution_count": 13,
   "metadata": {
    "collapsed": false
   },
   "outputs": [
    {
     "data": {
      "text/html": [
       "<html>\n",
       "<body>\n",
       "<h2 class=\"my\">Turn this into blue</h2>\n",
       "<button onclick=\"myFunction()\">Click</button>\n",
       "<script>\n",
       "    function myFunction() {\n",
       "        document.querySelector(\".my\").style.backgroundColor = \"blue\";\n",
       "    }\n",
       "</script>\n",
       "</body>\n",
       "</html>"
      ],
      "text/plain": [
       "<IPython.core.display.HTML object>"
      ]
     },
     "metadata": {},
     "output_type": "display_data"
    }
   ],
   "source": [
    "%%HTML\n",
    "<html>\n",
    "<body>\n",
    "<h2 class=\"my\">Turn this into blue</h2>\n",
    "<button onclick=\"myFunction()\">Click</button>\n",
    "<script>\n",
    "    function myFunction() {\n",
    "        document.querySelector(\".my\").style.backgroundColor = \"blue\";\n",
    "    }\n",
    "</script>\n",
    "</body>\n",
    "</html>"
   ]
  },
  {
   "cell_type": "code",
   "execution_count": 14,
   "metadata": {
    "collapsed": false
   },
   "outputs": [
    {
     "data": {
      "text/html": [
       "<html>\n",
       "<body>\n",
       "    <p id=\"p2\">Hello World!</p>\n",
       "    <script>\n",
       "        document.getElementById(\"p2\").style.color = \"RED\";\n",
       "    </script>\n",
       "    <p>Hello World turned into RED!</p>\n",
       "</body>\n",
       "</html>"
      ],
      "text/plain": [
       "<IPython.core.display.HTML object>"
      ]
     },
     "metadata": {},
     "output_type": "display_data"
    }
   ],
   "source": [
    "%%HTML\n",
    "<html>\n",
    "<body>\n",
    "    <p id=\"p2\">Hello World!</p>\n",
    "    <script>\n",
    "        document.getElementById(\"p2\").style.color = \"RED\";\n",
    "    </script>\n",
    "    <p>Hello World turned into RED!</p>\n",
    "</body>\n",
    "</html>"
   ]
  },
  {
   "cell_type": "code",
   "execution_count": 25,
   "metadata": {
    "collapsed": false
   },
   "outputs": [
    {
     "name": "stdout",
     "output_type": "stream",
     "text": [
      "<title>Welcome to Python.org</title>\n",
      "[<div class=\"top-bar do-not-print\" id=\"top\">\\n<nav class=\"meta-navigation container\" role=\"navigation\">\\n<div class=\"skip-link screen-reader-text\">\\n<a href=\"#content\" title=\"Skip to content\">Skip to content</a>\\n</div>\\n<a aria-hidden=\"true\" class=\"jump-link\" href=\"#python-network\" id=\"close-python-network\">\\n<span aria-hidden=\"true\" class=\"icon-arrow-down\"><span>\\u25bc</span></span> Close\\n                </a>\\n<ul class=\"menu\" role=\"tree\">\\n<li class=\"python-meta current_item selectedcurrent_branch selected\">\\n<a class=\"current_item selectedcurrent_branch selected\" href=\"/\" title=\"The Python Programming Language\">Python</a>\\n</li>\\n<li class=\"psf-meta \">\\n<a href=\"/psf-landing/\" title=\"The Python Software Foundation\">PSF</a>\\n</li>\\n<li class=\"docs-meta \">\\n<a href=\"https://docs.python.org\" title=\"Python Documentation\">Docs</a>\\n</li>\\n<li class=\"pypi-meta \">\\n<a href=\"https://pypi.python.org/\" title=\"Python Package Index\">PyPI</a>\\n</li>\\n<li class=\"jobs-meta \">\\n<a href=\"/jobs/\" title=\"Python Job Board\">Jobs</a>\\n</li>\\n<li class=\"shop-meta \">\\n<a href=\"/community/\" title=\"Python Community\">Community</a>\\n</li>\\n</ul>\\n<a aria-hidden=\"true\" class=\"jump-link\" href=\"#top\" id=\"python-network\">\\n<span aria-hidden=\"true\" class=\"icon-arrow-up\"><span>\\u25b2</span></span> The Python Network\\n                </a>\\n</nav>\\n</div>]\n"
     ]
    }
   ],
   "source": [
    "from bs4 import BeautifulSoup\n",
    "import requests\n",
    "page = requests.get(\"https://www.python.org/\")\n",
    "soup = BeautifulSoup(page.content,\"lxml\")\n",
    "print soup.title\n",
    "print soup.find_all('div',class_=\"do-not-print\", id=\"top\")\n",
    "#print soup.find_all('div') 전부 가져오는 코드."
   ]
  },
  {
   "cell_type": "code",
   "execution_count": 21,
   "metadata": {
    "collapsed": false
   },
   "outputs": [
    {
     "data": {
      "text/plain": [
       "requests.models.Response"
      ]
     },
     "execution_count": 21,
     "metadata": {},
     "output_type": "execute_result"
    }
   ],
   "source": [
    "type(page)"
   ]
  },
  {
   "cell_type": "code",
   "execution_count": 22,
   "metadata": {
    "collapsed": false
   },
   "outputs": [
    {
     "data": {
      "text/plain": [
       "bs4.BeautifulSoup"
      ]
     },
     "execution_count": 22,
     "metadata": {},
     "output_type": "execute_result"
    }
   ],
   "source": [
    "type(soup)"
   ]
  },
  {
   "cell_type": "code",
   "execution_count": 26,
   "metadata": {
    "collapsed": false
   },
   "outputs": [
    {
     "name": "stdout",
     "output_type": "stream",
     "text": [
      "[<div class=\"top-bar do-not-print\" id=\"top\">\\n<nav class=\"meta-navigation container\" role=\"navigation\">\\n<div class=\"skip-link screen-reader-text\">\\n<a href=\"#content\" title=\"Skip to content\">Skip to content</a>\\n</div>\\n<a aria-hidden=\"true\" class=\"jump-link\" href=\"#python-network\" id=\"close-python-network\">\\n<span aria-hidden=\"true\" class=\"icon-arrow-down\"><span>\\u25bc</span></span> Close\\n                </a>\\n<ul class=\"menu\" role=\"tree\">\\n<li class=\"python-meta current_item selectedcurrent_branch selected\">\\n<a class=\"current_item selectedcurrent_branch selected\" href=\"/\" title=\"The Python Programming Language\">Python</a>\\n</li>\\n<li class=\"psf-meta \">\\n<a href=\"/psf-landing/\" title=\"The Python Software Foundation\">PSF</a>\\n</li>\\n<li class=\"docs-meta \">\\n<a href=\"https://docs.python.org\" title=\"Python Documentation\">Docs</a>\\n</li>\\n<li class=\"pypi-meta \">\\n<a href=\"https://pypi.python.org/\" title=\"Python Package Index\">PyPI</a>\\n</li>\\n<li class=\"jobs-meta \">\\n<a href=\"/jobs/\" title=\"Python Job Board\">Jobs</a>\\n</li>\\n<li class=\"shop-meta \">\\n<a href=\"/community/\" title=\"Python Community\">Community</a>\\n</li>\\n</ul>\\n<a aria-hidden=\"true\" class=\"jump-link\" href=\"#top\" id=\"python-network\">\\n<span aria-hidden=\"true\" class=\"icon-arrow-up\"><span>\\u25b2</span></span> The Python Network\\n                </a>\\n</nav>\\n</div>]\n"
     ]
    }
   ],
   "source": [
    "print soup.find_all('div',{'class': 'do-not-print','id':'top'})"
   ]
  },
  {
   "cell_type": "code",
   "execution_count": 30,
   "metadata": {
    "collapsed": false
   },
   "outputs": [
    {
     "name": "stdout",
     "output_type": "stream",
     "text": [
      "#content\n",
      "#python-network\n",
      "/\n",
      "/psf-landing/\n",
      "https://docs.python.org\n",
      "https://pypi.python.org/\n",
      "/jobs/\n",
      "/community/\n",
      "#top\n",
      "/\n",
      "#site-map\n",
      "#\n",
      "javascript:;\n",
      "javascript:;\n",
      "javascript:;\n",
      "#\n",
      "http://plus.google.com/+Python\n",
      "http://www.facebook.com/pythonlang?fref=ts\n",
      "http://twitter.com/ThePSF\n",
      "/community/irc/\n",
      "/accounts/login/\n",
      "/accounts/signup/\n",
      "/accounts/login/\n",
      "/about/\n",
      "/about/apps/\n",
      "/about/quotes/\n",
      "/about/gettingstarted/\n",
      "/about/help/\n",
      "http://brochure.getpython.info/\n",
      "/downloads/\n",
      "/downloads/\n",
      "/downloads/source/\n",
      "/downloads/windows/\n",
      "/downloads/mac-osx/\n",
      "/download/other/\n",
      "https://docs.python.org/3/license.html\n",
      "/download/alternatives\n",
      "/doc/\n",
      "/doc/\n",
      "/doc/av\n",
      "https://wiki.python.org/moin/BeginnersGuide\n",
      "https://docs.python.org/devguide/\n",
      "https://docs.python.org/faq/\n",
      "http://wiki.python.org/moin/Languages\n",
      "http://python.org/dev/peps/\n",
      "https://wiki.python.org/moin/PythonBooks\n",
      "/community/\n",
      "/community/diversity/\n",
      "/community/irc/\n",
      "/community/lists/\n",
      "/community/workshops/\n",
      "/community/sigs/\n",
      "https://wiki.python.org/moin/\n",
      "/community/logos/\n",
      "/community/merchandise/\n",
      "/community/awards\n",
      "/about/success/\n",
      "/about/success/#arts\n",
      "/about/success/#business\n",
      "/about/success/#education\n",
      "/about/success/#engineering\n",
      "/about/success/#government\n",
      "/about/success/#scientific\n",
      "/about/success/#software-development\n",
      "/blogs/\n",
      "/blogs/\n",
      "http://planetpython.org/\n",
      "http://pyfound.blogspot.com/\n",
      "http://pycon.blogspot.com/\n",
      "/events/\n",
      "/events/python-events\n",
      "/events/python-user-group/\n",
      "/events/python-events/past/\n",
      "/events/python-user-group/past/\n",
      "https://wiki.python.org/moin/PythonEventsCalendar#Submitting_an_Event\n",
      "/shell/\n",
      "//docs.python.org/3/tutorial/controlflow.html#defining-functions\n",
      "//docs.python.org/3/tutorial/introduction.html#lists\n",
      "http://docs.python.org/3/tutorial/introduction.html#using-python-as-a-calculator\n",
      "//docs.python.org/3/tutorial/\n",
      "//docs.python.org/3/tutorial/controlflow.html\n",
      "/doc/\n",
      "/about/gettingstarted/\n",
      "https://wiki.python.org/moin/Python2orPython3\n",
      "/downloads/release/python-360/\n",
      "/downloads/release/python-2713/\n",
      "https://docs.python.org\n",
      "//jobs.python.org\n",
      "http://blog.python.org\n",
      "http://feedproxy.google.com/~r/PythonInsider/~3/w2AW2NRSOEM/python-361rc1-is-now-available-for.html\n",
      "http://feedproxy.google.com/~r/PythonInsider/~3/NeIHRAidlpc/python-353-and-346-are-now-available.html\n",
      "http://feedproxy.google.com/~r/PythonInsider/~3/UoiMThSwgQM/python-353rc1-and-python-346rc1-are-now.html\n",
      "http://feedproxy.google.com/~r/PythonInsider/~3/4gOtq8ChYHk/python-360-is-now-available.html\n",
      "http://feedproxy.google.com/~r/PythonInsider/~3/LLpTSlyUots/python-2713-released.html\n",
      "/events/calendars/\n",
      "/events/python-user-group/508/\n",
      "/events/python-events/498/\n",
      "/events/python-events/467/\n",
      "/events/python-events/493/\n",
      "/events/python-user-group/511/\n",
      "/success-stories/\n",
      "/success-stories/industrial-light-magic-runs-python/\n",
      "/success-stories/industrial-light-magic-runs-python/\n",
      "/about/apps\n",
      "http://www.djangoproject.com/\n",
      "http://www.pylonsproject.org/\n",
      "http://bottlepy.org\n",
      "http://tornadoweb.org\n",
      "http://flask.pocoo.org/\n",
      "http://www.web2py.com/\n",
      "http://wiki.python.org/moin/TkInter\n",
      "https://wiki.gnome.org/Projects/PyGObject\n",
      "http://www.riverbankcomputing.co.uk/software/pyqt/intro\n",
      "https://wiki.qt.io/PySide\n",
      "https://kivy.org/\n",
      "http://www.wxpython.org/\n",
      "http://www.scipy.org\n",
      "http://pandas.pydata.org/\n",
      "http://ipython.org\n",
      "http://buildbot.net/\n",
      "http://trac.edgewall.org/\n",
      "http://roundup.sourceforge.net/\n",
      "http://www.ansible.com\n",
      "http://www.saltstack.com\n",
      "https://www.openstack.org\n",
      "/dev/peps/\n",
      "/dev/peps/peps.rss\n",
      "/psf/\n",
      "/psf/\n",
      "/users/membership/\n",
      "/psf/donations/\n",
      "#python-network\n",
      "/about/\n",
      "/about/apps/\n",
      "/about/quotes/\n",
      "/about/gettingstarted/\n",
      "/about/help/\n",
      "http://brochure.getpython.info/\n",
      "/downloads/\n",
      "/downloads/\n",
      "/downloads/source/\n",
      "/downloads/windows/\n",
      "/downloads/mac-osx/\n",
      "/download/other/\n",
      "https://docs.python.org/3/license.html\n",
      "/download/alternatives\n",
      "/doc/\n",
      "/doc/\n",
      "/doc/av\n",
      "https://wiki.python.org/moin/BeginnersGuide\n",
      "https://docs.python.org/devguide/\n",
      "https://docs.python.org/faq/\n",
      "http://wiki.python.org/moin/Languages\n",
      "http://python.org/dev/peps/\n",
      "https://wiki.python.org/moin/PythonBooks\n",
      "/community/\n",
      "/community/diversity/\n",
      "/community/irc/\n",
      "/community/lists/\n",
      "/community/workshops/\n",
      "/community/sigs/\n",
      "https://wiki.python.org/moin/\n",
      "/community/logos/\n",
      "/community/merchandise/\n",
      "/community/awards\n",
      "/about/success/\n",
      "/about/success/#arts\n",
      "/about/success/#business\n",
      "/about/success/#education\n",
      "/about/success/#engineering\n",
      "/about/success/#government\n",
      "/about/success/#scientific\n",
      "/about/success/#software-development\n",
      "/blogs/\n",
      "/blogs/\n",
      "http://planetpython.org/\n",
      "http://pyfound.blogspot.com/\n",
      "http://pycon.blogspot.com/\n",
      "/events/\n",
      "/events/python-events\n",
      "/events/python-user-group/\n",
      "/events/python-events/past/\n",
      "/events/python-user-group/past/\n",
      "https://wiki.python.org/moin/PythonEventsCalendar#Submitting_an_Event\n",
      "/dev/\n",
      "http://docs.python.org/devguide/\n",
      "http://bugs.python.org/\n",
      "https://mail.python.org/mailman/listinfo/python-dev\n",
      "/dev/core-mentorship/\n",
      "#python-network\n",
      "/about/help/\n",
      "/community/diversity/\n",
      "https://github.com/python/pythondotorg/issues\n",
      "https://status.python.org/\n",
      "/psf-landing/\n",
      "/about/legal/\n",
      "/privacy/\n"
     ]
    }
   ],
   "source": [
    "for link in (soup.find_all('a')):\n",
    "    print link.get('href')"
   ]
  },
  {
   "cell_type": "code",
   "execution_count": 29,
   "metadata": {
    "collapsed": false
   },
   "outputs": [
    {
     "name": "stdout",
     "output_type": "stream",
     "text": [
      "0 #content\n",
      "1 #python-network\n",
      "2 /\n",
      "3 /psf-landing/\n",
      "4 https://docs.python.org\n",
      "5 https://pypi.python.org/\n",
      "6 /jobs/\n",
      "7 /community/\n",
      "8 #top\n",
      "9 /\n",
      "10 #site-map\n",
      "11 #\n",
      "12 javascript:;\n",
      "13 javascript:;\n",
      "14 javascript:;\n",
      "15 #\n",
      "16 http://plus.google.com/+Python\n",
      "17 http://www.facebook.com/pythonlang?fref=ts\n",
      "18 http://twitter.com/ThePSF\n",
      "19 /community/irc/\n"
     ]
    }
   ],
   "source": [
    "for counter,link in enumerate(soup.find_all('a')):\n",
    "    if(counter<20):\n",
    "        print counter,link.get('href')"
   ]
  },
  {
   "cell_type": "code",
   "execution_count": 31,
   "metadata": {
    "collapsed": false
   },
   "outputs": [
    {
     "name": "stdout",
     "output_type": "stream",
     "text": [
      "숫자와 문자:  ['Here', 'goes', 'my', 'phone', 'number', '2287', '1111', 'Nice', 'to', 'meet', 'you', 'Merry', 'Christmas']\n",
      "숫자:  ['2287', '1111']\n",
      "대문자를 가진 단어:  ['Here', 'Nice', 'Merry', 'Christmas']\n"
     ]
    }
   ],
   "source": [
    "import re\n",
    "\n",
    "sentence=\"Here goes my phone number 2287-1111. Nice to meet you! Merry Christmas\"\n",
    "regex1='\\w+'\n",
    "print \"숫자와 문자: \",re.findall(regex1, sentence)\n",
    "regex2='\\d+'\n",
    "print \"숫자: \",re.findall(regex2, sentence)\n",
    "regex3 = '[A-Z]\\w+'\n",
    "print \"대문자를 가진 단어: \",re.findall(regex3, sentence)"
   ]
  },
  {
   "cell_type": "code",
   "execution_count": 32,
   "metadata": {
    "collapsed": false
   },
   "outputs": [
    {
     "name": "stdout",
     "output_type": "stream",
     "text": [
      "a tag:  ['foo']\n"
     ]
    }
   ],
   "source": [
    "import re\n",
    "\n",
    "tags='<html><body><div>asdfasdf</div><p><a>foo</a></p></body></html>'\n",
    "regex=\"<a>(.*)</a>\"\n",
    "print \"a tag: \",re.findall(regex, tags)"
   ]
  },
  {
   "cell_type": "code",
   "execution_count": 21,
   "metadata": {
    "collapsed": false
   },
   "outputs": [
    {
     "data": {
      "text/plain": [
       "'src\\\\mypage1.html'"
      ]
     },
     "execution_count": 21,
     "metadata": {},
     "output_type": "execute_result"
    }
   ],
   "source": [
    "import os\n",
    "os.path.join('src','mypage1.html')"
   ]
  },
  {
   "cell_type": "code",
   "execution_count": 22,
   "metadata": {
    "collapsed": false
   },
   "outputs": [
    {
     "ename": "ParseError",
     "evalue": "mismatched tag: line 6, column 2",
     "output_type": "error",
     "traceback": [
      "\u001b[0;36m  File \u001b[0;32m\"<string>\"\u001b[0;36m, line \u001b[0;32munknown\u001b[0m\n\u001b[0;31mParseError\u001b[0m\u001b[0;31m:\u001b[0m mismatched tag: line 6, column 2\n"
     ]
    }
   ],
   "source": [
    "import xml.etree.ElementTree as ET\n",
    "import os\n",
    "tree=ET.parse(os.path.join('mypage1.html'))"
   ]
  },
  {
   "cell_type": "code",
   "execution_count": 18,
   "metadata": {
    "collapsed": false
   },
   "outputs": [
    {
     "ename": "NameError",
     "evalue": "name 'tree' is not defined",
     "output_type": "error",
     "traceback": [
      "\u001b[0;31m---------------------------------------------------------------------------\u001b[0m",
      "\u001b[0;31mNameError\u001b[0m                                 Traceback (most recent call last)",
      "\u001b[0;32m<ipython-input-18-da14c574d5ce>\u001b[0m in \u001b[0;36m<module>\u001b[0;34m()\u001b[0m\n\u001b[0;32m----> 1\u001b[0;31m \u001b[1;32mfor\u001b[0m \u001b[0mnode\u001b[0m \u001b[1;32min\u001b[0m \u001b[0mtree\u001b[0m\u001b[1;33m.\u001b[0m\u001b[0mgetiterator\u001b[0m\u001b[1;33m(\u001b[0m\u001b[1;33m)\u001b[0m\u001b[1;33m:\u001b[0m\u001b[1;33m\u001b[0m\u001b[0m\n\u001b[0m\u001b[1;32m      2\u001b[0m     \u001b[1;32mprint\u001b[0m \u001b[1;34m\"- 태그:\"\u001b[0m\u001b[1;33m,\u001b[0m \u001b[0mnode\u001b[0m\u001b[1;33m.\u001b[0m\u001b[0mtag\u001b[0m\u001b[1;33m,\u001b[0m \u001b[1;34m\"->\"\u001b[0m\u001b[1;33m,\u001b[0m \u001b[0mnode\u001b[0m\u001b[1;33m.\u001b[0m\u001b[0mtext\u001b[0m\u001b[1;33m\u001b[0m\u001b[0m\n",
      "\u001b[0;31mNameError\u001b[0m: name 'tree' is not defined"
     ]
    }
   ],
   "source": [
    "for node in tree.getiterator():\n",
    "    print \"- 태그:\", node.tag, \"->\", node.text"
   ]
  },
  {
   "cell_type": "code",
   "execution_count": 20,
   "metadata": {
    "collapsed": false
   },
   "outputs": [
    {
     "ename": "ParseError",
     "evalue": "mismatched tag: line 6, column 2",
     "output_type": "error",
     "traceback": [
      "\u001b[0;36m  File \u001b[0;32m\"<string>\"\u001b[0;36m, line \u001b[0;32munknown\u001b[0m\n\u001b[0;31mParseError\u001b[0m\u001b[0;31m:\u001b[0m mismatched tag: line 6, column 2\n"
     ]
    }
   ],
   "source": [
    "f=open(os.path.join('mypage1.html'))\n",
    "htmlstr=f.read()\n",
    "f.close()\n",
    "\n",
    "tree=ET.fromstring(htmlstr)\n",
    "for node in tree.getiterator():\n",
    "    print \"- 태그:\", node.tag, node.attrib"
   ]
  },
  {
   "cell_type": "code",
   "execution_count": null,
   "metadata": {
    "collapsed": true
   },
   "outputs": [],
   "source": []
  }
 ],
 "metadata": {
  "kernelspec": {
   "display_name": "Python 2",
   "language": "python",
   "name": "python2"
  },
  "language_info": {
   "codemirror_mode": {
    "name": "ipython",
    "version": 2
   },
   "file_extension": ".py",
   "mimetype": "text/x-python",
   "name": "python",
   "nbconvert_exporter": "python",
   "pygments_lexer": "ipython2",
   "version": "2.7.13"
  }
 },
 "nbformat": 4,
 "nbformat_minor": 2
}
