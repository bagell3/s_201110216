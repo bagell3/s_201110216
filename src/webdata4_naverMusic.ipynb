{
 "cells": [
  {
   "cell_type": "code",
   "execution_count": 38,
   "metadata": {
    "collapsed": false
   },
   "outputs": [
    {
     "name": "stdout",
     "output_type": "stream",
     "text": [
      "이승훈 --- 비 오는 거리 --- 1집 비오는 거리 --- 인기 6\n",
      "강인원 --- 비오는 날 수채화 --- 비오는 날 수채화 1 OST --- 인기 6\n",
      "브라운 아이즈 --- 비오는 압구정 --- 2집 Reason 4 Breathing? --- 인기 8\n",
      "소울스타 (SoulstaR) --- 비 오는 거리 --- 비 오는 거리 --- 인기 5\n",
      "서영은 --- 비오는 거리 --- 1집 Romantic 1 --- 인기 6\n",
      "베이빌론(Babylon) --- 비 오는 거리  (Feat. 핫펠트) --- BETWEEN US --- 인기 6\n",
      "유리상자 --- 비오는 거리 --- 유ㄹish.1 - 비오는 거리 --- 인기 5\n",
      "소심한 오빠들 --- 비오는 날엔 --- 비오는 날엔 --- 인기 5\n",
      "오소연 --- 비 오는 날 --- 비 오는 날 --- 인기 3\n",
      "모모캣츠(Momocats) --- 비오는 날, 산책 --- 비오는 날, 산책 --- 인기 4\n",
      "브라운 아이즈 --- 비오는 압구정 --- The Very Best Of Browneyes `Take A Favorite` --- 인기 6\n",
      "하이니(Hi.ni) --- 비오는 날은 푸르다 --- 비오는 날은 푸르다 --- 인기 3\n",
      "은가은 --- 비 오는 이런 날에 --- 비 오는 이런 날에 --- 인기 4\n",
      "Bruno Mars --- It Will Rain --- Acoustic Rain (비오는 날 듣는 감성 팝음악 모음집) --- 인기 5\n",
      "루싸이트 토끼 --- 비오는 날 --- 1집 Twinkle Twinkle --- 인기 6\n",
      "SG 워너비 --- 비 오는 거리 --- Classic Odyssey --- 인기 5\n",
      "이승철 --- 비 오는 거리에서 --- 시간 참 빠르다 --- 인기 5\n",
      "서영은 --- 비오는 압구정 --- Unforgettable No.2 --- 인기 5\n",
      "박정현 --- 비오는 날의 수채화 --- 서바이벌 나는 가수다 경연 1 `80년대 명곡 부르기 --- 인기 6\n",
      "김경호 --- 비오는 날 수채화 --- <불후의 명곡 – 전설을 노래하다> - 강인원 편 --- 인기 3\n",
      "Flower Singers --- 7080 가요 메들리 (지난날, 비오는 날의 수채화, 보랏빛 향기) --- Flower Singers 7080 세대를 위한 학창시절 추억의 노래 --- 인기 4\n",
      "SG 워너비 --- 비 오는 날의 수채화 --- Classic Odyssey --- 인기 5\n",
      "김광민 --- Rainy Day (비오는 날) --- 1집 Letter From The Earth --- 인기 4\n",
      "럼블 피쉬 --- 비오는날의 수채화 (Feat. 정혜민, Misty) --- Memory For You --- 인기 5\n",
      "노블레스 --- 비오는 날엔 (Feat. 어쿠스틱 콜라보) --- 7집 Growing Pains --- 인기 4\n",
      "재주소년 --- 비오는 아침 --- 1집 재주소년 (才洲少年) --- 인기 5\n",
      "이금성 --- 비오는 거리 --- 비오는 거리 --- 인기 3\n",
      "도나웨일(Donawhale) --- 비오는 밤 --- 1집 Donawhale --- 인기 4\n",
      "서영은 --- 비오는 거리 --- Rainy Days… (비올 때 듣고 싶은 음악) --- 인기 4\n",
      "모니카(Monica) --- 비 오는 창가에서 --- 명상음악 아이를 위한 태교 Part 8 --- 인기 3\n",
      "비오는 금요일 --- 비오는 금요일 --- 비오는 금요일 --- 인기 2\n",
      "권인하 --- 비오는 날의 수채화 --- 첫사랑 --- 인기 4\n",
      "줄라이(July) --- 비오는 날 (Piano ver.) --- Ending Song (Digital Single) --- 인기 3\n",
      "레미 --- 비오는 날엔 막걸리 (Feat. 신승열) --- 비오는 날엔 막걸리 --- 인기 3\n",
      "레드 페이스(Red Face) --- 비오는 거리 (빗속에서) --- 喜入合 (희입합) --- 인기 4\n",
      "롤러코스터 --- 비오는 이른 새벽 자장가 --- 1집 내게로 와 --- 인기 4\n",
      "로만티코(Romantico) --- 비 오는 경리단길 (Feat. 양은선) --- Diminished Part 1 --- 인기 4\n",
      "루드 페이퍼(Rude Paper) --- 비오는 밤에 --- 1집 Paper Spectrum --- 인기 4\n",
      "강인원 --- 비오는 날의 수채화 --- 5집 DJ처리와 함께 아자아자 진품명작 5 --- 인기 5\n",
      "포레스트 엘(Forest L) --- 비 오는 날 (Rainy Day) --- 비 오는 날 (Rainy Day) --- 인기 3\n",
      "민티 --- 비 오는 날 --- 명상 뉴에이지 음악 (비오는 날의 명상) --- 인기 3\n",
      "Rumer --- We Will --- Acoustic Rain (비오는 날 듣는 감성 팝음악 모음집) --- 인기 4\n",
      "Ed Sheeran --- Lego House (Acoustic) --- Acoustic Rain (비오는 날 듣는 감성 팝음악 모음집) --- 인기 4\n",
      "줄라이(July) --- 비오는 날 --- 2집 To Heaven --- 인기 4\n",
      "The Cinema Studio Orchestra --- Monaco (모나코) --- 비오는 날엔... 분위기 있는 올드팝 드라이브 7080 팝송 (Pop) 추억의 영화 (Screen) 음악 연주 베스트 --- 인기 3\n",
      "이펙터 --- 비오는 날 --- 자연의 소리 - 빗소리 --- 인기 3\n",
      "Laura Izibor --- Mmm... --- Acoustic Rain (비오는 날 듣는 감성 팝음악 모음집) --- 인기 3\n",
      "키쉬(Kish) --- 비오는 날이면… --- 2집 My Story --- 인기 4\n",
      "태교 --- 1악장) (비오는 소리와 함께하는 태교음악) --- 비오는 소리와 함께하는 모차르트 태교음악 --- 인기 2\n",
      "온음 --- 비오는 일요일 --- 명상 뉴에이지 음악 (비오는 날의 명상) --- 인기 3\n"
     ]
    }
   ],
   "source": [
    "# coding: utf-8\n",
    "import lxml.html\n",
    "import requests\n",
    "from lxml.cssselect import CSSSelector\n",
    "\n",
    "keyword='비오는'\n",
    "url = requests.get(\"http://music.naver.com/search/search.nhn?query=%EB%B9%84%EC%98%A4%EB%8A%94&target=track\")\n",
    "_html = lxml.html.fromstring(url.text)\n",
    "\n",
    "sel = CSSSelector('table[summary] > tbody > ._tracklist_move')\n",
    "nodes = sel(_html)\n",
    "\n",
    "_selPopular = CSSSelector('.popular> div> span> em')\n",
    "_selName = CSSSelector('.name > a.title')\n",
    "_selArtist = CSSSelector('._artist.artist')\n",
    "_selAlbum= CSSSelector('.album > a')\n",
    "for node in nodes:\n",
    "    _popular=_selPopular(node)\n",
    "    _name=_selName(node)\n",
    "    _artist=_selArtist(node)\n",
    "    _album=_selAlbum(node)\n",
    "    if _name:\n",
    "        print _artist[0].text_content().strip(),\n",
    "        print \"---\",\n",
    "        print _name[0].text_content(),\n",
    "        print \"---\",\n",
    "        print _album[0].text_content(),\n",
    "        print \"---\",\n",
    "        print \"인기\", _popular[0].text_content()"
   ]
  },
  {
   "cell_type": "code",
   "execution_count": 37,
   "metadata": {
    "collapsed": false
   },
   "outputs": [
    {
     "name": "stdout",
     "output_type": "stream",
     "text": [
      "Writing src/webdata4_naverMusic.py\n"
     ]
    }
   ],
   "source": [
    "%%writefile src/webdata4_naverMusic.py\n",
    "# coding: utf-8\n",
    "import lxml.html\n",
    "import requests\n",
    "from lxml.cssselect import CSSSelector\n",
    "\n",
    "keyword='비오는'\n",
    "url = requests.get(\"http://music.naver.com/search/search.nhn?query=%EB%B9%84%EC%98%A4%EB%8A%94&target=track\")\n",
    "_html = lxml.html.fromstring(url.text)\n",
    "\n",
    "sel = CSSSelector('table[summary] > tbody > ._tracklist_move')\n",
    "nodes = sel(_html)\n",
    "\n",
    "_selPopular = CSSSelector('.popular> div> span> em')\n",
    "_selName = CSSSelector('.name > a.title')\n",
    "_selArtist = CSSSelector('._artist.artist')\n",
    "_selAlbum= CSSSelector('.album > a')\n",
    "for node in nodes:\n",
    "    _popular=_selPopular(node)\n",
    "    _name=_selName(node)\n",
    "    _artist=_selArtist(node)\n",
    "    _album=_selAlbum(node)\n",
    "    if _name:\n",
    "        print _artist[0].text_content().strip(),\n",
    "        print \"---\",\n",
    "        print _name[0].text_content(),\n",
    "        print \"---\",\n",
    "        print _album[0].text_content(),\n",
    "        print \"---\",\n",
    "        print \"인기\", _popular[0].text_content()"
   ]
  }
 ],
 "metadata": {
  "kernelspec": {
   "display_name": "Python 2",
   "language": "python",
   "name": "python2"
  },
  "language_info": {
   "codemirror_mode": {
    "name": "ipython",
    "version": 2
   },
   "file_extension": ".py",
   "mimetype": "text/x-python",
   "name": "python",
   "nbconvert_exporter": "python",
   "pygments_lexer": "ipython2",
   "version": "2.7.13"
  }
 },
 "nbformat": 4,
 "nbformat_minor": 2
}
