{
 "cells": [
  {
   "cell_type": "code",
   "execution_count": null,
   "metadata": {
    "collapsed": false
   },
   "outputs": [],
   "source": [
    "!curl http://httpbin.org/encoding/utf8"
   ]
  },
  {
   "cell_type": "code",
   "execution_count": null,
   "metadata": {
    "collapsed": false
   },
   "outputs": [],
   "source": [
    "import requests\n",
    "r = requests.get(\"http://httpbin.org/encoding/utf8\")\n",
    "r.text[0:500]"
   ]
  },
  {
   "cell_type": "code",
   "execution_count": null,
   "metadata": {
    "collapsed": false
   },
   "outputs": [],
   "source": [
    "import locale\n",
    "locale.getdefaultlocale()"
   ]
  },
  {
   "cell_type": "code",
   "execution_count": null,
   "metadata": {
    "collapsed": false,
    "scrolled": true
   },
   "outputs": [],
   "source": [
    "import sys, locale\n",
    "print locale.getpreferredencoding()\n",
    "print sys.getdefaultencoding()\n",
    "print sys.getfilesystemencoding()\n",
    "print sys.stdin.encoding\n",
    "print sys.stdout.encoding"
   ]
  },
  {
   "cell_type": "code",
   "execution_count": null,
   "metadata": {
    "collapsed": true
   },
   "outputs": [],
   "source": [
    "import sys\n",
    "reload(sys)\n",
    "sys.setdefaultencoding('utf-8')"
   ]
  },
  {
   "cell_type": "code",
   "execution_count": null,
   "metadata": {
    "collapsed": false
   },
   "outputs": [],
   "source": [
    "str('한')"
   ]
  },
  {
   "cell_type": "code",
   "execution_count": null,
   "metadata": {
    "collapsed": false
   },
   "outputs": [],
   "source": [
    "u'한'"
   ]
  },
  {
   "cell_type": "code",
   "execution_count": null,
   "metadata": {
    "collapsed": false
   },
   "outputs": [],
   "source": [
    "(u'한').encode('utf-8')"
   ]
  },
  {
   "cell_type": "code",
   "execution_count": null,
   "metadata": {
    "collapsed": false
   },
   "outputs": [],
   "source": [
    "print u'한'"
   ]
  },
  {
   "cell_type": "code",
   "execution_count": null,
   "metadata": {
    "collapsed": false
   },
   "outputs": [],
   "source": [
    "import json\n",
    "\n",
    "user1={ \"id\": \"405\", \"name\": \"js\" }\n",
    "user2={ \"id\": \"405\", \"이름\": \"js\" }\n",
    "user3={ \"id\": \"405\", u\"이름\": \"js\" }\n",
    "\n",
    "print user1\n",
    "print user2\n",
    "print user3"
   ]
  },
  {
   "cell_type": "code",
   "execution_count": null,
   "metadata": {
    "collapsed": false
   },
   "outputs": [],
   "source": [
    "print '\\xec\\x9d\\xb4'\n",
    "print ord('\\xec')\n",
    "print hex(ord('\\xec'))"
   ]
  },
  {
   "cell_type": "code",
   "execution_count": 11,
   "metadata": {
    "collapsed": false
   },
   "outputs": [
    {
     "name": "stdout",
     "output_type": "stream",
     "text": [
      "{\"Persons\": [{\"id\": \"405\", \"\\uc774\\ub984\": \"js1\"}, {\"id\": \"406\", \"\\uc774\\ub984\": \"js2\"}]}\n"
     ]
    }
   ],
   "source": [
    "import json\n",
    "\n",
    "p={\"Persons\":[\n",
    "    {\"id\":\"405\", \"이름\":\"js1\"},\n",
    "    {\"id\":\"406\", \"이름\":\"js2\"},\n",
    "]}\n",
    "\n",
    "print json.dumps(p)"
   ]
  },
  {
   "cell_type": "code",
   "execution_count": 12,
   "metadata": {
    "collapsed": false
   },
   "outputs": [
    {
     "name": "stdout",
     "output_type": "stream",
     "text": [
      "Overwriting src/ds_save_mongo_test.js\n"
     ]
    }
   ],
   "source": [
    "%%writefile src/ds_save_mongo_test.js\n",
    "use test\n",
    "db.testCollection.insert({x:1})\n",
    "db.testCollection.find()\n",
    "db.stats()"
   ]
  },
  {
   "cell_type": "code",
   "execution_count": 19,
   "metadata": {
    "collapsed": false
   },
   "outputs": [
    {
     "name": "stdout",
     "output_type": "stream",
     "text": [
      "MongoDB shell version v3.4.3\n",
      "connecting to: mongodb://127.0.0.1:27017\n",
      "MongoDB server version: 3.4.3\n",
      "switched to db test\n",
      "WriteResult({ \"nInserted\" : 1 })\n",
      "{ \"_id\" : ObjectId(\"58f43b6de910d078c9cac008\"), \"x\" : 1 }\n",
      "{\n",
      "\t\"db\" : \"test\",\n",
      "\t\"collections\" : 1,\n",
      "\t\"views\" : 0,\n",
      "\t\"objects\" : 1,\n",
      "\t\"avgObjSize\" : 33,\n",
      "\t\"dataSize\" : 33,\n",
      "\t\"storageSize\" : 4096,\n",
      "\t\"numExtents\" : 0,\n",
      "\t\"indexes\" : 1,\n",
      "\t\"indexSize\" : 4096,\n",
      "\t\"ok\" : 1\n",
      "}\n",
      "bye\n"
     ]
    }
   ],
   "source": [
    "!mongo < src/ds_save_mongo_test.js"
   ]
  },
  {
   "cell_type": "code",
   "execution_count": 21,
   "metadata": {
    "collapsed": false
   },
   "outputs": [
    {
     "name": "stdout",
     "output_type": "stream",
     "text": [
      "Overwriting src/ds_save_mongo_5.js\n"
     ]
    }
   ],
   "source": [
    "%%writefile src/ds_save_mongo_5.js\n",
    "use myDB\n",
    "show dbs\n",
    "show tables\n",
    "db.myCol.insert({\"Persons\":[{\"id\":\"405\", \"이름\":\"js1\"},{\"id\":\"406\", \"이름\":\"js2\"}]})\n",
    "db.myCol.find({ \"Persons.이름\": \"js1\" })"
   ]
  },
  {
   "cell_type": "code",
   "execution_count": 22,
   "metadata": {
    "collapsed": false
   },
   "outputs": [
    {
     "name": "stdout",
     "output_type": "stream",
     "text": [
      "MongoDB shell version v3.4.3\n",
      "connecting to: mongodb://127.0.0.1:27017\n",
      "MongoDB server version: 3.4.3\n",
      "switched to db myDB\n",
      "admin  0.000GB\n",
      "local  0.000GB\n",
      "myDB   0.000GB\n",
      "test   0.000GB\n",
      "myPyCol\n",
      "WriteResult({ \"nInserted\" : 1 })\n",
      "{ \"_id\" : ObjectId(\"58f43babc52f138ce61424ae\"), \"Persons\" : [ { \"id\" : \"405\", \"�대쫫\" : \"js1\" }, { \"id\" : \"406\", \"�대쫫\" : \"js2\" } ] }\n",
      "bye\n"
     ]
    }
   ],
   "source": [
    "!mongo < src/ds_save_mongo_5.js"
   ]
  },
  {
   "cell_type": "code",
   "execution_count": 1,
   "metadata": {
    "collapsed": false
   },
   "outputs": [],
   "source": [
    "import pymongo"
   ]
  },
  {
   "cell_type": "code",
   "execution_count": 2,
   "metadata": {
    "collapsed": true
   },
   "outputs": [],
   "source": [
    "from pymongo import MongoClient\n",
    "\n",
    "client = MongoClient()\n",
    "db=client.myDB"
   ]
  },
  {
   "cell_type": "code",
   "execution_count": 3,
   "metadata": {
    "collapsed": true
   },
   "outputs": [],
   "source": [
    "_id=1\n",
    "_name='js'\n",
    "_age=11\n",
    "_country='ko'"
   ]
  },
  {
   "cell_type": "code",
   "execution_count": 4,
   "metadata": {
    "collapsed": false
   },
   "outputs": [
    {
     "data": {
      "text/plain": [
       "<pymongo.results.InsertOneResult at 0x41860d8>"
      ]
     },
     "execution_count": 4,
     "metadata": {},
     "output_type": "execute_result"
    }
   ],
   "source": [
    "db.myPyCol.insert_one({\n",
    "    \"id\": _id,\n",
    "    \"name\": _name,\n",
    "    \"age\": _age,\n",
    "    \"country\": _country\n",
    "})"
   ]
  },
  {
   "cell_type": "code",
   "execution_count": 5,
   "metadata": {
    "collapsed": false,
    "scrolled": true
   },
   "outputs": [
    {
     "name": "stdout",
     "output_type": "stream",
     "text": [
      "js\n"
     ]
    }
   ],
   "source": [
    "results = db.myPyCol.find()\n",
    "for r in results:\n",
    "        print r['name']"
   ]
  },
  {
   "cell_type": "code",
   "execution_count": 6,
   "metadata": {
    "collapsed": false
   },
   "outputs": [
    {
     "data": {
      "text/plain": [
       "<pymongo.results.UpdateResult at 0x4186ea0>"
      ]
     },
     "execution_count": 6,
     "metadata": {},
     "output_type": "execute_result"
    }
   ],
   "source": [
    "_name='jslim'\n",
    "_age=123\n",
    "db.myPyCol.update_one(\n",
    "        {\"id\": _id},\n",
    "        {\n",
    "            \"$set\": {\n",
    "                \"name\":_name,\n",
    "                \"age\":_age,\n",
    "            }\n",
    "        }\n",
    "    )"
   ]
  },
  {
   "cell_type": "code",
   "execution_count": 7,
   "metadata": {
    "collapsed": false
   },
   "outputs": [
    {
     "name": "stdout",
     "output_type": "stream",
     "text": [
      "1 jslim\n"
     ]
    }
   ],
   "source": [
    "results = db.myPyCol.find()\n",
    "for r in results:\n",
    "        print r['id'],r['name']"
   ]
  },
  {
   "cell_type": "code",
   "execution_count": 8,
   "metadata": {
    "collapsed": false
   },
   "outputs": [
    {
     "data": {
      "text/plain": [
       "<pymongo.results.DeleteResult at 0x568c5e8>"
      ]
     },
     "execution_count": 8,
     "metadata": {},
     "output_type": "execute_result"
    }
   ],
   "source": [
    "db.myPyCol.delete_many({\"id\":1})"
   ]
  },
  {
   "cell_type": "code",
   "execution_count": 17,
   "metadata": {
    "collapsed": false
   },
   "outputs": [
    {
     "data": {
      "text/plain": [
       "<pymongo.results.UpdateResult at 0x4186c60>"
      ]
     },
     "execution_count": 17,
     "metadata": {},
     "output_type": "execute_result"
    }
   ],
   "source": [
    "_name='jslim'\n",
    "_age=123\n",
    "db.myPyCol.update_one(\n",
    "        {\"id\": _id},\n",
    "        {\n",
    "            \"$set\": {\n",
    "                \"name\":_name,\n",
    "                \"age\":_age,\n",
    "            }\n",
    "        }\n",
    "    )"
   ]
  },
  {
   "cell_type": "code",
   "execution_count": 23,
   "metadata": {
    "collapsed": false
   },
   "outputs": [
    {
     "name": "stdout",
     "output_type": "stream",
     "text": [
      "[{u'\\uc774\\ub984': u'js1', u'id': u'405'}, {u'\\uc774\\ub984': u'js2', u'id': u'406'}]\n"
     ]
    }
   ],
   "source": [
    "import pymongo\n",
    "from pymongo import MongoClient\n",
    "\n",
    "client = MongoClient('localhost:27017')\n",
    "db=client.myDB\n",
    "results = db.myCol.find()\n",
    "for r in results:\n",
    "        print r['Persons']"
   ]
  },
  {
   "cell_type": "code",
   "execution_count": 24,
   "metadata": {
    "collapsed": false
   },
   "outputs": [
    {
     "name": "stdout",
     "output_type": "stream",
     "text": [
      "Writing src/ds_save_mongo_6.js\n"
     ]
    }
   ],
   "source": [
    "%%writefile src/ds_save_mongo_6.js\n",
    "import pymongo\n",
    "from pymongo import MongoClient\n",
    "\n",
    "client = MongoClient('localhost:27017')\n",
    "db=client.myDB\n",
    "results = db.myCol.find()\n",
    "for r in results:\n",
    "        print r['Persons']"
   ]
  }
 ],
 "metadata": {
  "kernelspec": {
   "display_name": "Python 2",
   "language": "python",
   "name": "python2"
  },
  "language_info": {
   "codemirror_mode": {
    "name": "ipython",
    "version": 2
   },
   "file_extension": ".py",
   "mimetype": "text/x-python",
   "name": "python",
   "nbconvert_exporter": "python",
   "pygments_lexer": "ipython2",
   "version": "2.7.13"
  }
 },
 "nbformat": 4,
 "nbformat_minor": 2
}
