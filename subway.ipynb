{
 "cells": [
  {
   "cell_type": "code",
   "execution_count": 2,
   "metadata": {
    "collapsed": false
   },
   "outputs": [
    {
     "name": "stdout",
     "output_type": "stream",
     "text": [
      "%ED%95%9C\n",
      "%ED%95%9C\n"
     ]
    }
   ],
   "source": [
    "import urllib\n",
    "\n",
    "mystr = u\"한\"\n",
    "utf8str=mystr.encode('utf-8')  # error without encoding\n",
    "print urllib.quote(utf8str)\n",
    "print urllib.quote_plus(utf8str)\n"
   ]
  },
  {
   "cell_type": "code",
   "execution_count": 3,
   "metadata": {
    "collapsed": false,
    "scrolled": true
   },
   "outputs": [
    {
     "name": "stdout",
     "output_type": "stream",
     "text": [
      "+\n",
      "%20\n"
     ]
    }
   ],
   "source": [
    "print urllib.quote_plus(' ')\n",
    "print urllib.quote(' ')"
   ]
  },
  {
   "cell_type": "code",
   "execution_count": 4,
   "metadata": {
    "collapsed": false,
    "scrolled": true
   },
   "outputs": [
    {
     "name": "stdout",
     "output_type": "stream",
     "text": [
      "key=%253D\n"
     ]
    }
   ],
   "source": [
    "import urllib\n",
    "params=urllib.urlencode({'key':'%3D'})\n",
    "print params"
   ]
  },
  {
   "cell_type": "code",
   "execution_count": 5,
   "metadata": {
    "collapsed": false
   },
   "outputs": [
    {
     "name": "stdout",
     "output_type": "stream",
     "text": [
      "{\"ip\":\"117.16.43.197\",\"country_code\":\"KR\",\"country_name\":\"Republic of Korea\",\"region_code\":\"\",\"region_name\":\"\",\"city\":\"\",\"zip_code\":\"\",\"time_zone\":\"Asia/Seoul\",\"latitude\":37.5112,\"longitude\":126.9741,\"metro_code\":0}\n",
      "\n"
     ]
    }
   ],
   "source": [
    "import requests\n",
    "url='http://freegeoip.net/json/'\n",
    "geostr=requests.get(url).text\n",
    "print geostr%%writefile src/mylib.py\n",
    "def sayHello():\n",
    "    print \"hello\"\n",
    "\n",
    "def getKey(keyPath):\n",
    "    d=dict()\n",
    "    f=open(keyPath,'r')\n",
    "    for line in f.readlines():\n",
    "        row=line.split('=')\n",
    "        row0=row[0]\n",
    "        d[row0]=row[1].strip()\n",
    "    return d"
   ]
  },
  {
   "cell_type": "code",
   "execution_count": 8,
   "metadata": {
    "collapsed": false
   },
   "outputs": [
    {
     "name": "stdout",
     "output_type": "stream",
     "text": [
      "Writing src/mylib.py\n"
     ]
    }
   ],
   "source": [
    "%%writefile src/mylib.py\n",
    "def sayHello():\n",
    "    print \"hello\"\n",
    "\n",
    "def getKey(keyPath):\n",
    "    d=dict()\n",
    "    f=open(keyPath,'r')\n",
    "    for line in f.readlines():\n",
    "        row=line.split('=')\n",
    "        row0=row[0]\n",
    "        d[row0]=row[1].strip()\n",
    "    return d"
   ]
  },
  {
   "cell_type": "code",
   "execution_count": 10,
   "metadata": {
    "collapsed": false
   },
   "outputs": [
    {
     "ename": "ImportError",
     "evalue": "No module named src.mylib",
     "output_type": "error",
     "traceback": [
      "\u001b[0;31m---------------------------------------------------------------------------\u001b[0m",
      "\u001b[0;31mImportError\u001b[0m                               Traceback (most recent call last)",
      "\u001b[0;32m<ipython-input-10-b65fccdc49fd>\u001b[0m in \u001b[0;36m<module>\u001b[0;34m()\u001b[0m\n\u001b[0;32m----> 1\u001b[0;31m \u001b[1;32mimport\u001b[0m \u001b[0msrc\u001b[0m\u001b[1;33m.\u001b[0m\u001b[0mmylib\u001b[0m\u001b[1;33m\u001b[0m\u001b[0m\n\u001b[0m\u001b[1;32m      2\u001b[0m \u001b[1;32mprint\u001b[0m \u001b[0msayHello\u001b[0m\u001b[1;33m(\u001b[0m\u001b[1;33m)\u001b[0m\u001b[1;33m\u001b[0m\u001b[0m\n",
      "\u001b[0;31mImportError\u001b[0m: No module named src.mylib"
     ]
    }
   ],
   "source": []
  },
  {
   "cell_type": "code",
   "execution_count": 11,
   "metadata": {
    "collapsed": false
   },
   "outputs": [
    {
     "name": "stdout",
     "output_type": "stream",
     "text": [
      "Writing src/key.properties\n"
     ]
    }
   ],
   "source": [
    "%%writefile src/key.properties\n",
    "dataseoul=455447476562616734367662765444\n",
    "gokr=WNL9y281Rn0LjcyCl3MyGhpxNA7OnTvhNjVkf7LhEz6MvBpDEpI07ZOGcnki9kaB8XfNdMeYWhLL7N%2BQZ237cQ%3D%3D"
   ]
  },
  {
   "cell_type": "code",
   "execution_count": 15,
   "metadata": {
    "collapsed": false,
    "scrolled": true
   },
   "outputs": [
    {
     "name": "stdout",
     "output_type": "stream",
     "text": [
      "Writing src/__init__.py\n"
     ]
    }
   ],
   "source": [
    "%%writefile src/__init__.py\n",
    "\n",
    "import os"
   ]
  },
  {
   "cell_type": "code",
   "execution_count": 17,
   "metadata": {
    "collapsed": false
   },
   "outputs": [
    {
     "name": "stdout",
     "output_type": "stream",
     "text": [
      "hello\n",
      "None\n"
     ]
    }
   ],
   "source": [
    "import src.mylib\n",
    "print src.mylib.sayHello()"
   ]
  },
  {
   "cell_type": "code",
   "execution_count": 1,
   "metadata": {
    "collapsed": false
   },
   "outputs": [
    {
     "name": "stdout",
     "output_type": "stream",
     "text": [
      "xml\\SearchSTNBySubwayLineService\\1\\10\\2\n"
     ]
    }
   ],
   "source": [
    "import os\n",
    "import src.mylib\n",
    "\n",
    "keyPath=os.path.join(os.getcwd(), 'src', 'key.properties')\n",
    "key=src.mylib.getKey(keyPath)\n",
    "KEY=str(key['dataseoul'])\n",
    "TYPE='xml'\n",
    "SERVICE='SearchSTNBySubwayLineService'\n",
    "START_INDEX=str(1)\n",
    "END_INDEX=str(10)\n",
    "LINE_NUM=str(2)\n",
    "\n",
    "params=os.path.join(KEY,TYPE,SERVICE,START_INDEX,END_INDEX,LINE_NUM)\n",
    "print params[31:]"
   ]
  },
  {
   "cell_type": "code",
   "execution_count": 2,
   "metadata": {
    "collapsed": false
   },
   "outputs": [
    {
     "name": "stdout",
     "output_type": "stream",
     "text": [
      "http://openAPI.seoul.go.kr:8088/455447476562616734367662765444\\xml\\SearchSTNBySubwayLineService\\1\\10\\2\n"
     ]
    }
   ],
   "source": [
    "import urlparse\n",
    "_url='http://openAPI.seoul.go.kr:8088/'\n",
    "url=urlparse.urljoin(_url,params)\n",
    "print url"
   ]
  },
  {
   "cell_type": "code",
   "execution_count": 5,
   "metadata": {
    "collapsed": false
   },
   "outputs": [
    {
     "name": "stdout",
     "output_type": "stream",
     "text": [
      "시청\n",
      "을지로입구\n",
      "을지로3가\n",
      "을지로4가\n",
      "동대문역사문화공원\n",
      "신당\n",
      "상왕십리\n",
      "왕십리\n",
      "한양대\n",
      "뚝섬\n",
      "성수\n",
      "용답\n",
      "신답\n",
      "용두\n",
      "신설동\n",
      "건대입구\n",
      "구의\n",
      "강변\n",
      "잠실나루\n",
      "잠실\n",
      "잠실새내\n",
      "종합운동장\n",
      "삼성\n",
      "선릉\n",
      "역삼\n",
      "강남\n",
      "교대\n",
      "서초\n",
      "방배\n",
      "사당\n",
      "낙성대\n",
      "서울대입구\n",
      "봉천\n",
      "신림\n",
      "신대방\n",
      "구로디지털단지\n",
      "대림\n",
      "신도림\n",
      "도림천\n",
      "양천구청\n",
      "신정네거리\n",
      "까치산\n",
      "문래\n",
      "영등포구청\n",
      "당산\n",
      "합정\n",
      "홍대입구\n",
      "신촌\n",
      "이대\n",
      "아현\n",
      "충정로\n"
     ]
    }
   ],
   "source": [
    "import os\n",
    "import src.mylib\n",
    "import urlparse\n",
    "import re\n",
    "import requests\n",
    "keyPath=os.path.join(os.getcwd(),'src','key.properties')\n",
    "key=src.mylib.getKey(keyPath)\n",
    "KEY=str(key['dataseoul'])\n",
    "TYPE='xml'\n",
    "SERVICE='SearchSTNBySubwayLineService'\n",
    "START_INDEX=str(1)\n",
    "END_INDEX=str(100)\n",
    "LINE_NUM=str(2)\n",
    "\n",
    "params=os.path.join(KEY,TYPE,SERVICE,START_INDEX,END_INDEX,LINE_NUM)\n",
    "params = params.replace('\\\\','/')\n",
    "_url='http://openAPI.seoul.go.kr:8088/'\n",
    "url=urlparse.urljoin(_url,params)\n",
    "data=requests.get(url).text\n",
    "p=re.compile('<STATION_NM>(.+?)</STATION_NM>')\n",
    "res=p.findall(data)\n",
    "for item in res:\n",
    "    print item"
   ]
  },
  {
   "cell_type": "code",
   "execution_count": 6,
   "metadata": {
    "collapsed": false
   },
   "outputs": [
    {
     "name": "stdout",
     "output_type": "stream",
     "text": [
      "Writing opendata_subwayline.py\n"
     ]
    }
   ],
   "source": [
    "%%writefile opendata_subwayline.py\n",
    "import os\n",
    "import src.mylib\n",
    "import urlparse\n",
    "import re\n",
    "import requests\n",
    "keyPath=os.path.join(os.getcwd(),'src','key.properties')\n",
    "key=src.mylib.getKey(keyPath)\n",
    "KEY=str(key['dataseoul'])\n",
    "TYPE='xml'\n",
    "SERVICE='SearchSTNBySubwayLineService'\n",
    "START_INDEX=str(1)\n",
    "END_INDEX=str(100)\n",
    "LINE_NUM=str(2)\n",
    "\n",
    "params=os.path.join(KEY,TYPE,SERVICE,START_INDEX,END_INDEX,LINE_NUM)\n",
    "params = params.replace('\\\\','/')\n",
    "_url='http://openAPI.seoul.go.kr:8088/'\n",
    "url=urlparse.urljoin(_url,params)\n",
    "data=requests.get(url).text\n",
    "p=re.compile('<STATION_NM>(.+?)</STATION_NM>')\n",
    "res=p.findall(data)\n",
    "for item in res:\n",
    "    print item"
   ]
  }
 ],
 "metadata": {
  "kernelspec": {
   "display_name": "Python 2",
   "language": "python",
   "name": "python2"
  },
  "language_info": {
   "codemirror_mode": {
    "name": "ipython",
    "version": 2
   },
   "file_extension": ".py",
   "mimetype": "text/x-python",
   "name": "python",
   "nbconvert_exporter": "python",
   "pygments_lexer": "ipython2",
   "version": "2.7.13"
  }
 },
 "nbformat": 4,
 "nbformat_minor": 2
}
