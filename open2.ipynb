{
 "cells": [
  {
   "cell_type": "code",
   "execution_count": 17,
   "metadata": {
    "collapsed": false,
    "scrolled": true
   },
   "outputs": [
    {
     "name": "stdout",
     "output_type": "stream",
     "text": [
      "gokr= WNL9y281Rn0LjcyCl3MyGhpxNA7OnTvhNjVkf7LhEz6MvBpDEpI07ZOGcnki9kaB8XfNdMeYWhLL7N%2BQZ237cQ%3D%3D\n",
      "dataseoul= 455447476562616734367662765444\n"
     ]
    }
   ],
   "source": [
    "import os\n",
    "import src.mylib\n",
    "\n",
    "KEY=src.mylib.getKey(os.path.join('src', 'key.properties'))\n",
    "print 'gokr=',KEY['gokr']\n",
    "print 'dataseoul=',KEY['dataseoul']"
   ]
  },
  {
   "cell_type": "code",
   "execution_count": 14,
   "metadata": {
    "collapsed": false
   },
   "outputs": [
    {
     "name": "stdout",
     "output_type": "stream",
     "text": [
      "Overwriting src/ds_open_dataseoul_ex.py\n"
     ]
    }
   ],
   "source": [
    "%%writefile src/ds_open_dataseoul_ex.py\n",
    "# coding: utf-8\n",
    "import os\n",
    "import requests\n",
    "import urlparse\n",
    "import mylib\n",
    "\n",
    "def doIt():\n",
    "    keyPath=os.path.join(os.getcwd(), 'src', 'key.properties')\n",
    "    key=mylib.getKey(keyPath)\n",
    "    # (1) make params with resource IDs\n",
    "    KEY=key['dataseoul']\n",
    "    TYPE='json'\n",
    "    SERVICE='SearchSTNBySubwayLineService'\n",
    "    START_INDEX=str(1)\n",
    "    END_INDEX=str(10)\n",
    "    LINE_NUM=str(2)\n",
    "    params=os.path.join(KEY,TYPE,SERVICE,START_INDEX,END_INDEX,LINE_NUM)\n",
    "    # (2) make a full url\n",
    "    _url='http://openAPI.seoul.go.kr:8088/'\n",
    "    url=urlparse.urljoin(_url,params)\n",
    "    # (3) get data\n",
    "    data=requests.get(url).text\n",
    "    print data[:300]\n",
    "\n",
    "if __name__ == \"__main__\":\n",
    "    doIt()"
   ]
  },
  {
   "cell_type": "code",
   "execution_count": 8,
   "metadata": {
    "collapsed": false
   },
   "outputs": [
    {
     "data": {
      "text/plain": [
       "u'C:\\\\Users\\\\400T6B\\\\Code\\\\s_201110216'"
      ]
     },
     "execution_count": 8,
     "metadata": {},
     "output_type": "execute_result"
    }
   ],
   "source": [
    "pwd"
   ]
  },
  {
   "cell_type": "code",
   "execution_count": 11,
   "metadata": {
    "collapsed": false
   },
   "outputs": [
    {
     "name": "stdout",
     "output_type": "stream",
     "text": [
      " C 드라이브의 볼륨에는 이름이 없습니다.\n",
      " 볼륨 일련 번호: A49F-0284\n",
      "\n",
      " C:\\Users\\400T6B\\Code\\s_201110216\\src 디렉터리\n",
      "\n",
      "2017-04-18  오후 05:14    <DIR>          .\n",
      "2017-04-18  오후 05:14    <DIR>          ..\n",
      "2017-03-28  오후 04:18    <DIR>          .ipynb_checkpoints\n",
      "2017-03-14  오후 05:49             2,835 3.14.ipynb\n",
      "2017-03-28  오후 04:17            43,230 3.20.ipynb\n",
      "2017-03-14  오후 04:10             8,612 3m.ipynb\n",
      "2017-04-18  오후 05:14               682 ds_open_dataseoul_ex.py\n",
      "2017-04-17  오후 12:50               165 ds_save_mongo_5.js\n",
      "2017-04-17  오후 12:51               180 ds_save_mongo_6.js\n",
      "2017-04-17  오후 12:47                79 ds_save_mongo_test.js\n",
      "2017-04-03  오후 12:09               305 ds_web_crawl234_1.py\n",
      "2017-04-03  오후 12:10               646 ds_web_crawl234_5.py\n",
      "2017-03-28  오후 05:33               374 ds_web_crawl_ieee.py\n",
      "2017-04-03  오후 12:46               614 ds_web_crawl_kbaseball.py\n",
      "2017-04-18  오후 05:10               141 key.properties\n",
      "2017-03-28  오후 04:19               949 my.xml\n",
      "2017-04-18  오후 05:13               313 mylib.py\n",
      "2017-04-18  오후 05:13               765 mylib.pyc\n",
      "2017-03-20  오후 12:23               233 mypage1.html\n",
      "2017-03-28  오후 04:22             1,108 mypage3.html\n",
      "2017-04-03  오후 12:11            14,189 s_201110216-master.zip\n",
      "2017-03-14  오후 04:44               284 test.fy\n",
      "2017-04-18  오후 05:09                 9 __init__.py\n",
      "2017-04-18  오후 05:12               126 __init__.pyc\n",
      "              21개 파일              75,839 바이트\n",
      "               3개 디렉터리  805,354,446,848 바이트 남음\n"
     ]
    }
   ],
   "source": [
    "!dir src"
   ]
  },
  {
   "cell_type": "code",
   "execution_count": 18,
   "metadata": {
    "collapsed": false
   },
   "outputs": [
    {
     "name": "stdout",
     "output_type": "stream",
     "text": [
      "\n"
     ]
    }
   ],
   "source": [
    "!python src/ds_open_dataseoul_ex.py"
   ]
  }
 ],
 "metadata": {
  "kernelspec": {
   "display_name": "Python 2",
   "language": "python",
   "name": "python2"
  },
  "language_info": {
   "codemirror_mode": {
    "name": "ipython",
    "version": 2
   },
   "file_extension": ".py",
   "mimetype": "text/x-python",
   "name": "python",
   "nbconvert_exporter": "python",
   "pygments_lexer": "ipython2",
   "version": "2.7.13"
  }
 },
 "nbformat": 4,
 "nbformat_minor": 2
}
