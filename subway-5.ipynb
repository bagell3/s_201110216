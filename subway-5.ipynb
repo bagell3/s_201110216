{
 "cells": [
  {
   "cell_type": "code",
   "execution_count": 27,
   "metadata": {
    "collapsed": false
   },
   "outputs": [],
   "source": [
    "import os\n",
    "import src.mylib\n",
    "import requests\n",
    "keyPath=os.path.join(os.getcwd(),'src','key.properties')\n",
    "key=src.mylib.getKey(keyPath)\n",
    "_key=str(key['dataseoul'])\n",
    "_url='http://openAPI.seoul.go.kr:8088'\n",
    "_type='xml'\n",
    "_service='CardSubwayStatsNew'\n",
    "_start_index=1\n",
    "_end_index=5\n",
    "_use_mon='20151101'\n",
    "_api=os.path.join(_url,_key,_type,_service,str(_start_index),str(_end_index),_use_mon)"
   ]
  },
  {
   "cell_type": "code",
   "execution_count": 20,
   "metadata": {
    "collapsed": false
   },
   "outputs": [
    {
     "name": "stdout",
     "output_type": "stream",
     "text": [
      "http://openAPI.seoul.go.kr:8088\\455447476562616734367662765444\\xml\\CardSubwayStatsNew\\1\\100\\20151101\n"
     ]
    }
   ],
   "source": [
    "print _api"
   ]
  },
  {
   "cell_type": "code",
   "execution_count": 31,
   "metadata": {
    "collapsed": false,
    "scrolled": true
   },
   "outputs": [
    {
     "name": "stdout",
     "output_type": "stream",
     "text": [
      "<?xml version=\"1.0\" encoding=\"UTF-8\"?>\n",
      "<CardSubwayStatsNew>\n",
      "<list_total_count>548</list_total_count>\n",
      "<RESULT>\n",
      "<CODE>INFO-000</CODE>\n",
      "<MESSAGE>정상 처리되었습니다</MESSAGE>\n",
      "</RESULT>\n",
      "<row>\n",
      "<USE_DT>20151101</USE_DT>\n",
      "<LINE_NUM>1호선</LINE_NUM>\n",
      "<SUB_STA_NM>서울역</SUB_STA_NM>\n",
      "<RIDE_PASGR_NUM>53097</RIDE_PASGR_NUM>\n",
      "<ALIGHT_PASGR_NUM>45172</ALIGHT_PASGR_NUM>\n",
      "<WORK_DT>20151203</WORK_DT>\n",
      "</row>\n",
      "<row>\n",
      "<USE_DT>20151101</USE_DT>\n",
      "<LINE_NUM>1호선</LINE_NUM>\n",
      "<SUB_STA_NM>시청</SUB_STA_NM>\n",
      "<RIDE_PASGR_NUM>16963</RIDE_PASGR_NUM>\n",
      "<ALIGHT_PASGR_NUM>16793</ALIGHT_PASGR_NUM>\n",
      "<WORK_DT>20151203</WORK_DT>\n",
      "</row>\n",
      "<row>\n",
      "<USE_DT>20151101</USE_DT>\n",
      "<LINE_NUM>1호선</LINE_NUM>\n",
      "<SUB_STA_NM>종각</SUB_STA_NM>\n",
      "<RIDE_PASGR_NUM>25924</RIDE_PASGR_NUM>\n",
      "<ALIGHT_PASGR_NUM>20608</ALIGHT_PASGR_NUM>\n",
      "<WORK_DT>20151203</WORK_DT>\n",
      "</row>\n",
      "<row>\n",
      "<USE_DT>20151101</USE_DT>\n",
      "<LINE_NUM>1호선</LINE_NUM>\n",
      "<SUB_STA_NM>종로3가</SUB_STA_NM>\n",
      "<RIDE_PASGR_NUM>23769</RIDE_PASGR_NUM>\n",
      "<ALIGHT_PASGR_NUM>19962</ALIGHT_PASGR_NUM>\n",
      "<WORK_DT>20151203</WORK_DT>\n",
      "</row>\n",
      "<row>\n",
      "<USE_DT>20151101</USE_DT>\n",
      "<LINE_NUM>1호선</LINE_NUM>\n",
      "<SUB_STA_NM>종로5가</SUB_STA_NM>\n",
      "<RIDE_PASGR_NUM>12945</RIDE_PASGR_NUM>\n",
      "<ALIGHT_PASGR_NUM>13012</ALIGHT_PASGR_NUM>\n",
      "<WORK_DT>20151203</WORK_DT>\n",
      "</row>\n",
      "</CardSubwayStatsNew>\n",
      "\n",
      "<?xml version=\"1.0\" encoding=\"UTF-8\"?>\n",
      "<CardSubwayStatsNew>\n",
      "<list_total_count>548</list_total_count>\n",
      "<RESULT>\n",
      "<CODE>INFO-000</CODE>\n",
      "<MESSAGE>정상 처리되었습니다</MESSAGE>\n",
      "</RESULT>\n",
      "<row>\n",
      "<USE_DT>20151101</USE_DT>\n",
      "<LINE_NUM>1호선</LINE_NUM>\n",
      "<SUB_STA_NM>서울역</SUB_STA_NM>\n",
      "<RIDE_PASGR_NUM>53097</RIDE_PASGR_NUM>\n",
      "<ALIGHT_PASGR_NUM>45172</ALIGHT_PASGR_NUM>\n",
      "<WORK_DT>20151203</WORK_DT>\n",
      "</row>\n",
      "<row>\n",
      "<USE_DT>20151101</USE_DT>\n",
      "<LINE_NUM>1호선</LINE_NUM>\n",
      "<SUB_STA_NM>시청</SUB_STA_NM>\n",
      "<RIDE_PASGR_NUM>16963</RIDE_PASGR_NUM>\n",
      "<ALIGHT_PASGR_NUM>16793</ALIGHT_PASGR_NUM>\n",
      "<WORK_DT>20151203</WORK_DT>\n",
      "</row>\n",
      "<row>\n",
      "<USE_DT>20151101</USE_DT>\n",
      "<LINE_NUM>1호선</LINE_NUM>\n",
      "<SUB_STA_NM>종각</SUB_STA_NM>\n",
      "<RIDE_PASGR_NUM>25924</RIDE_PASGR_NUM>\n",
      "<ALIGHT_PASGR_NUM>20608</ALIGHT_PASGR_NUM>\n",
      "<WORK_DT>20151203</WORK_DT>\n",
      "</row>\n",
      "<row>\n",
      "<USE_DT>20151101</USE_DT>\n",
      "<LINE_NUM>1호선</LINE_NUM>\n",
      "<SUB_STA_NM>종로3가</SUB_STA_NM>\n",
      "<RIDE_PASGR_NUM>23769</RIDE_PASGR_NUM>\n",
      "<ALIGHT_PASGR_NUM>19962</ALIGHT_PASGR_NUM>\n",
      "<WORK_DT>20151203</WORK_DT>\n",
      "</row>\n",
      "<row>\n",
      "<USE_DT>20151101</USE_DT>\n",
      "<LINE_NUM>1호선</LINE_NUM>\n",
      "<SUB_STA_NM>종로5가</SUB_STA_NM>\n",
      "<RIDE_PASGR_NUM>12945</RIDE_PASGR_NUM>\n",
      "<ALIGHT_PASGR_NUM>13012</ALIGHT_PASGR_NUM>\n",
      "<WORK_DT>20151203</WORK_DT>\n",
      "</row>\n",
      "</CardSubwayStatsNew>\n",
      "\n"
     ]
    }
   ],
   "source": [
    "_api=\"http://openAPI.seoul.go.kr:8088/455447476562616734367662765444/xml/CardSubwayStatsNew/1/5/20151101\"\n",
    "_maxIter=2\n",
    "_iter=0\n",
    "while _iter<_maxIter:\n",
    "    response = requests.get(_api).text\n",
    "    print response\n",
    "    _start_index+=5\n",
    "    _end_index+=5\n",
    "    _iter+=1"
   ]
  },
  {
   "cell_type": "code",
   "execution_count": 32,
   "metadata": {
    "collapsed": true
   },
   "outputs": [],
   "source": [
    "from pymongo import MongoClient"
   ]
  },
  {
   "cell_type": "code",
   "execution_count": 33,
   "metadata": {
    "collapsed": true
   },
   "outputs": [],
   "source": [
    "Client = MongoClient('localhost:27017')"
   ]
  },
  {
   "cell_type": "code",
   "execution_count": 34,
   "metadata": {
    "collapsed": true
   },
   "outputs": [],
   "source": [
    "_db=Client['ds_open_subwayPassengersDb']"
   ]
  },
  {
   "cell_type": "code",
   "execution_count": 35,
   "metadata": {
    "collapsed": true
   },
   "outputs": [],
   "source": [
    "_table=_db['db_open_subwayTable']"
   ]
  },
  {
   "cell_type": "code",
   "execution_count": 48,
   "metadata": {
    "collapsed": false,
    "scrolled": true
   },
   "outputs": [
    {
     "name": "stdout",
     "output_type": "stream",
     "text": [
      "Overwriting src/ds_open_subwayPassengers.py\n"
     ]
    }
   ],
   "source": [
    "%%writefile src/ds_open_subwayPassengers.py\n",
    "# coding: utf-8\n",
    "import os\n",
    "import requests\n",
    "import json\n",
    "from pymongo import MongoClient\n",
    "import mylib\n",
    "\n",
    "Client = MongoClient('localhost:27017')\n",
    "_db=Client['ds_open_subwayPassengersDb'] #db created by mongo\n",
    "_table=_db['db_open_subwayTable'] #collection\n",
    "db=Client.ds_rest_subwayPassengers\n",
    "\n",
    "def saveJson(_fname,_data):\n",
    "    import io\n",
    "    with io.open(_fname, 'a', encoding='utf8') as json_file:\n",
    "        _j=json.dumps(_data, json_file, ensure_ascii=False, encoding='utf8')\n",
    "        json_file.write(_j+\"\\n\")\n",
    "\n",
    "def readJson(_fname):\n",
    "    for line in open(_fname, 'r').readlines():\n",
    "        _j=json.loads(line)\n",
    "        #print _j['id'],_j['text']\n",
    "        print _j['id']\n",
    "\n",
    "def saveDB(_data):\n",
    "    _table.insert_one(_data)\n",
    "\n",
    "def readDB():\n",
    "    for tweet in _table.find():\n",
    "        print tweet['id'],tweet['text']\n",
    "\n",
    "def saveFile(_fname,_data):\n",
    "    fp=open(_fname,'a')\n",
    "    fp.write(_data+\"\\n\")\n",
    "\n",
    "def doIt():\n",
    "    keyPath=os.path.join(os.getcwd(), 'src', 'key.properties')\n",
    "    key=mylib.getKey(keyPath)  \n",
    "    _key=key['dataseoul'] #KEY='73725.....'\n",
    "    _url='http://openAPI.seoul.go.kr:8088'\n",
    "    _type='json'\n",
    "    _service='CardSubwayStatsNew'\n",
    "    _start_index=1\n",
    "    _end_index=5\n",
    "    _use_mon='20151101'\n",
    "    _maxIter=20\n",
    "    _iter=0\n",
    "    _jfname='src/ds_open_subwayPassengers.json'\n",
    "    while _iter<_maxIter:\n",
    "        _api=os.path.join(_url,_key,_type,_service,str(_start_index),str(_end_index),_use_mon)\n",
    "        #print _api\n",
    "        r=requests.get(_api)\n",
    "        _json=r.json()\n",
    "        print _json\n",
    "        saveJson(_jfname,_json)\n",
    "        saveDB(_json)\n",
    "        _start_index+=5\n",
    "        _end_index+=5\n",
    "        _iter+=1\n",
    "\n",
    "if __name__ == \"__main__\":\n",
    "    doIt()"
   ]
  },
  {
   "cell_type": "code",
   "execution_count": 9,
   "metadata": {
    "collapsed": false
   },
   "outputs": [
    {
     "ename": "InvalidURL",
     "evalue": "Failed to parse: openAPI.seoul.go.kr:8088\\455447476562616734367662765444\\json\\CardSubwayStatsNew\\1\\5\\20151101",
     "output_type": "error",
     "traceback": [
      "\u001b[0;31m---------------------------------------------------------------------------\u001b[0m",
      "\u001b[0;31mInvalidURL\u001b[0m                                Traceback (most recent call last)",
      "\u001b[0;32m<ipython-input-9-911fd35eeec3>\u001b[0m in \u001b[0;36m<module>\u001b[0;34m()\u001b[0m\n\u001b[1;32m     60\u001b[0m \u001b[1;33m\u001b[0m\u001b[0m\n\u001b[1;32m     61\u001b[0m \u001b[1;32mif\u001b[0m \u001b[0m__name__\u001b[0m \u001b[1;33m==\u001b[0m \u001b[1;34m\"__main__\"\u001b[0m\u001b[1;33m:\u001b[0m\u001b[1;33m\u001b[0m\u001b[0m\n\u001b[0;32m---> 62\u001b[0;31m     \u001b[0mdoIt\u001b[0m\u001b[1;33m(\u001b[0m\u001b[1;33m)\u001b[0m\u001b[1;33m\u001b[0m\u001b[0m\n\u001b[0m",
      "\u001b[0;32m<ipython-input-9-911fd35eeec3>\u001b[0m in \u001b[0;36mdoIt\u001b[0;34m()\u001b[0m\n\u001b[1;32m     50\u001b[0m         \u001b[0m_api\u001b[0m\u001b[1;33m=\u001b[0m\u001b[0mos\u001b[0m\u001b[1;33m.\u001b[0m\u001b[0mpath\u001b[0m\u001b[1;33m.\u001b[0m\u001b[0mjoin\u001b[0m\u001b[1;33m(\u001b[0m\u001b[0m_url\u001b[0m\u001b[1;33m,\u001b[0m\u001b[0m_key\u001b[0m\u001b[1;33m,\u001b[0m\u001b[0m_type\u001b[0m\u001b[1;33m,\u001b[0m\u001b[0m_service\u001b[0m\u001b[1;33m,\u001b[0m\u001b[0mstr\u001b[0m\u001b[1;33m(\u001b[0m\u001b[0m_start_index\u001b[0m\u001b[1;33m)\u001b[0m\u001b[1;33m,\u001b[0m\u001b[0mstr\u001b[0m\u001b[1;33m(\u001b[0m\u001b[0m_end_index\u001b[0m\u001b[1;33m)\u001b[0m\u001b[1;33m,\u001b[0m\u001b[0m_use_mon\u001b[0m\u001b[1;33m)\u001b[0m\u001b[1;33m\u001b[0m\u001b[0m\n\u001b[1;32m     51\u001b[0m         \u001b[1;31m#print _api\u001b[0m\u001b[1;33m\u001b[0m\u001b[1;33m\u001b[0m\u001b[0m\n\u001b[0;32m---> 52\u001b[0;31m         \u001b[0mr\u001b[0m\u001b[1;33m=\u001b[0m\u001b[0mrequests\u001b[0m\u001b[1;33m.\u001b[0m\u001b[0mget\u001b[0m\u001b[1;33m(\u001b[0m\u001b[0m_api\u001b[0m\u001b[1;33m)\u001b[0m\u001b[1;33m\u001b[0m\u001b[0m\n\u001b[0m\u001b[1;32m     53\u001b[0m         \u001b[0m_json\u001b[0m\u001b[1;33m=\u001b[0m\u001b[0mr\u001b[0m\u001b[1;33m.\u001b[0m\u001b[0mjson\u001b[0m\u001b[1;33m(\u001b[0m\u001b[1;33m)\u001b[0m\u001b[1;33m\u001b[0m\u001b[0m\n\u001b[1;32m     54\u001b[0m         \u001b[1;32mprint\u001b[0m \u001b[0m_json\u001b[0m\u001b[1;33m\u001b[0m\u001b[0m\n",
      "\u001b[0;32mC:\\ProgramData\\Anaconda2\\lib\\site-packages\\requests\\api.py\u001b[0m in \u001b[0;36mget\u001b[0;34m(url, params, **kwargs)\u001b[0m\n\u001b[1;32m     68\u001b[0m \u001b[1;33m\u001b[0m\u001b[0m\n\u001b[1;32m     69\u001b[0m     \u001b[0mkwargs\u001b[0m\u001b[1;33m.\u001b[0m\u001b[0msetdefault\u001b[0m\u001b[1;33m(\u001b[0m\u001b[1;34m'allow_redirects'\u001b[0m\u001b[1;33m,\u001b[0m \u001b[0mTrue\u001b[0m\u001b[1;33m)\u001b[0m\u001b[1;33m\u001b[0m\u001b[0m\n\u001b[0;32m---> 70\u001b[0;31m     \u001b[1;32mreturn\u001b[0m \u001b[0mrequest\u001b[0m\u001b[1;33m(\u001b[0m\u001b[1;34m'get'\u001b[0m\u001b[1;33m,\u001b[0m \u001b[0murl\u001b[0m\u001b[1;33m,\u001b[0m \u001b[0mparams\u001b[0m\u001b[1;33m=\u001b[0m\u001b[0mparams\u001b[0m\u001b[1;33m,\u001b[0m \u001b[1;33m**\u001b[0m\u001b[0mkwargs\u001b[0m\u001b[1;33m)\u001b[0m\u001b[1;33m\u001b[0m\u001b[0m\n\u001b[0m\u001b[1;32m     71\u001b[0m \u001b[1;33m\u001b[0m\u001b[0m\n\u001b[1;32m     72\u001b[0m \u001b[1;33m\u001b[0m\u001b[0m\n",
      "\u001b[0;32mC:\\ProgramData\\Anaconda2\\lib\\site-packages\\requests\\api.py\u001b[0m in \u001b[0;36mrequest\u001b[0;34m(method, url, **kwargs)\u001b[0m\n\u001b[1;32m     54\u001b[0m     \u001b[1;31m# cases, and look like a memory leak in others.\u001b[0m\u001b[1;33m\u001b[0m\u001b[1;33m\u001b[0m\u001b[0m\n\u001b[1;32m     55\u001b[0m     \u001b[1;32mwith\u001b[0m \u001b[0msessions\u001b[0m\u001b[1;33m.\u001b[0m\u001b[0mSession\u001b[0m\u001b[1;33m(\u001b[0m\u001b[1;33m)\u001b[0m \u001b[1;32mas\u001b[0m \u001b[0msession\u001b[0m\u001b[1;33m:\u001b[0m\u001b[1;33m\u001b[0m\u001b[0m\n\u001b[0;32m---> 56\u001b[0;31m         \u001b[1;32mreturn\u001b[0m \u001b[0msession\u001b[0m\u001b[1;33m.\u001b[0m\u001b[0mrequest\u001b[0m\u001b[1;33m(\u001b[0m\u001b[0mmethod\u001b[0m\u001b[1;33m=\u001b[0m\u001b[0mmethod\u001b[0m\u001b[1;33m,\u001b[0m \u001b[0murl\u001b[0m\u001b[1;33m=\u001b[0m\u001b[0murl\u001b[0m\u001b[1;33m,\u001b[0m \u001b[1;33m**\u001b[0m\u001b[0mkwargs\u001b[0m\u001b[1;33m)\u001b[0m\u001b[1;33m\u001b[0m\u001b[0m\n\u001b[0m\u001b[1;32m     57\u001b[0m \u001b[1;33m\u001b[0m\u001b[0m\n\u001b[1;32m     58\u001b[0m \u001b[1;33m\u001b[0m\u001b[0m\n",
      "\u001b[0;32mC:\\ProgramData\\Anaconda2\\lib\\site-packages\\requests\\sessions.py\u001b[0m in \u001b[0;36mrequest\u001b[0;34m(self, method, url, params, data, headers, cookies, files, auth, timeout, allow_redirects, proxies, hooks, stream, verify, cert, json)\u001b[0m\n\u001b[1;32m    472\u001b[0m             \u001b[0mhooks\u001b[0m \u001b[1;33m=\u001b[0m \u001b[0mhooks\u001b[0m\u001b[1;33m,\u001b[0m\u001b[1;33m\u001b[0m\u001b[0m\n\u001b[1;32m    473\u001b[0m         )\n\u001b[0;32m--> 474\u001b[0;31m         \u001b[0mprep\u001b[0m \u001b[1;33m=\u001b[0m \u001b[0mself\u001b[0m\u001b[1;33m.\u001b[0m\u001b[0mprepare_request\u001b[0m\u001b[1;33m(\u001b[0m\u001b[0mreq\u001b[0m\u001b[1;33m)\u001b[0m\u001b[1;33m\u001b[0m\u001b[0m\n\u001b[0m\u001b[1;32m    475\u001b[0m \u001b[1;33m\u001b[0m\u001b[0m\n\u001b[1;32m    476\u001b[0m         \u001b[0mproxies\u001b[0m \u001b[1;33m=\u001b[0m \u001b[0mproxies\u001b[0m \u001b[1;32mor\u001b[0m \u001b[1;33m{\u001b[0m\u001b[1;33m}\u001b[0m\u001b[1;33m\u001b[0m\u001b[0m\n",
      "\u001b[0;32mC:\\ProgramData\\Anaconda2\\lib\\site-packages\\requests\\sessions.py\u001b[0m in \u001b[0;36mprepare_request\u001b[0;34m(self, request)\u001b[0m\n\u001b[1;32m    405\u001b[0m             \u001b[0mauth\u001b[0m\u001b[1;33m=\u001b[0m\u001b[0mmerge_setting\u001b[0m\u001b[1;33m(\u001b[0m\u001b[0mauth\u001b[0m\u001b[1;33m,\u001b[0m \u001b[0mself\u001b[0m\u001b[1;33m.\u001b[0m\u001b[0mauth\u001b[0m\u001b[1;33m)\u001b[0m\u001b[1;33m,\u001b[0m\u001b[1;33m\u001b[0m\u001b[0m\n\u001b[1;32m    406\u001b[0m             \u001b[0mcookies\u001b[0m\u001b[1;33m=\u001b[0m\u001b[0mmerged_cookies\u001b[0m\u001b[1;33m,\u001b[0m\u001b[1;33m\u001b[0m\u001b[0m\n\u001b[0;32m--> 407\u001b[0;31m             \u001b[0mhooks\u001b[0m\u001b[1;33m=\u001b[0m\u001b[0mmerge_hooks\u001b[0m\u001b[1;33m(\u001b[0m\u001b[0mrequest\u001b[0m\u001b[1;33m.\u001b[0m\u001b[0mhooks\u001b[0m\u001b[1;33m,\u001b[0m \u001b[0mself\u001b[0m\u001b[1;33m.\u001b[0m\u001b[0mhooks\u001b[0m\u001b[1;33m)\u001b[0m\u001b[1;33m,\u001b[0m\u001b[1;33m\u001b[0m\u001b[0m\n\u001b[0m\u001b[1;32m    408\u001b[0m         )\n\u001b[1;32m    409\u001b[0m         \u001b[1;32mreturn\u001b[0m \u001b[0mp\u001b[0m\u001b[1;33m\u001b[0m\u001b[0m\n",
      "\u001b[0;32mC:\\ProgramData\\Anaconda2\\lib\\site-packages\\requests\\models.py\u001b[0m in \u001b[0;36mprepare\u001b[0;34m(self, method, url, headers, files, data, params, auth, cookies, hooks, json)\u001b[0m\n\u001b[1;32m    300\u001b[0m \u001b[1;33m\u001b[0m\u001b[0m\n\u001b[1;32m    301\u001b[0m         \u001b[0mself\u001b[0m\u001b[1;33m.\u001b[0m\u001b[0mprepare_method\u001b[0m\u001b[1;33m(\u001b[0m\u001b[0mmethod\u001b[0m\u001b[1;33m)\u001b[0m\u001b[1;33m\u001b[0m\u001b[0m\n\u001b[0;32m--> 302\u001b[0;31m         \u001b[0mself\u001b[0m\u001b[1;33m.\u001b[0m\u001b[0mprepare_url\u001b[0m\u001b[1;33m(\u001b[0m\u001b[0murl\u001b[0m\u001b[1;33m,\u001b[0m \u001b[0mparams\u001b[0m\u001b[1;33m)\u001b[0m\u001b[1;33m\u001b[0m\u001b[0m\n\u001b[0m\u001b[1;32m    303\u001b[0m         \u001b[0mself\u001b[0m\u001b[1;33m.\u001b[0m\u001b[0mprepare_headers\u001b[0m\u001b[1;33m(\u001b[0m\u001b[0mheaders\u001b[0m\u001b[1;33m)\u001b[0m\u001b[1;33m\u001b[0m\u001b[0m\n\u001b[1;32m    304\u001b[0m         \u001b[0mself\u001b[0m\u001b[1;33m.\u001b[0m\u001b[0mprepare_cookies\u001b[0m\u001b[1;33m(\u001b[0m\u001b[0mcookies\u001b[0m\u001b[1;33m)\u001b[0m\u001b[1;33m\u001b[0m\u001b[0m\n",
      "\u001b[0;32mC:\\ProgramData\\Anaconda2\\lib\\site-packages\\requests\\models.py\u001b[0m in \u001b[0;36mprepare_url\u001b[0;34m(self, url, params)\u001b[0m\n\u001b[1;32m    358\u001b[0m             \u001b[0mscheme\u001b[0m\u001b[1;33m,\u001b[0m \u001b[0mauth\u001b[0m\u001b[1;33m,\u001b[0m \u001b[0mhost\u001b[0m\u001b[1;33m,\u001b[0m \u001b[0mport\u001b[0m\u001b[1;33m,\u001b[0m \u001b[0mpath\u001b[0m\u001b[1;33m,\u001b[0m \u001b[0mquery\u001b[0m\u001b[1;33m,\u001b[0m \u001b[0mfragment\u001b[0m \u001b[1;33m=\u001b[0m \u001b[0mparse_url\u001b[0m\u001b[1;33m(\u001b[0m\u001b[0murl\u001b[0m\u001b[1;33m)\u001b[0m\u001b[1;33m\u001b[0m\u001b[0m\n\u001b[1;32m    359\u001b[0m         \u001b[1;32mexcept\u001b[0m \u001b[0mLocationParseError\u001b[0m \u001b[1;32mas\u001b[0m \u001b[0me\u001b[0m\u001b[1;33m:\u001b[0m\u001b[1;33m\u001b[0m\u001b[0m\n\u001b[0;32m--> 360\u001b[0;31m             \u001b[1;32mraise\u001b[0m \u001b[0mInvalidURL\u001b[0m\u001b[1;33m(\u001b[0m\u001b[1;33m*\u001b[0m\u001b[0me\u001b[0m\u001b[1;33m.\u001b[0m\u001b[0margs\u001b[0m\u001b[1;33m)\u001b[0m\u001b[1;33m\u001b[0m\u001b[0m\n\u001b[0m\u001b[1;32m    361\u001b[0m \u001b[1;33m\u001b[0m\u001b[0m\n\u001b[1;32m    362\u001b[0m         \u001b[1;32mif\u001b[0m \u001b[1;32mnot\u001b[0m \u001b[0mscheme\u001b[0m\u001b[1;33m:\u001b[0m\u001b[1;33m\u001b[0m\u001b[0m\n",
      "\u001b[0;31mInvalidURL\u001b[0m: Failed to parse: openAPI.seoul.go.kr:8088\\455447476562616734367662765444\\json\\CardSubwayStatsNew\\1\\5\\20151101"
     ]
    }
   ],
   "source": [
    "# coding: utf-8\n",
    "import os\n",
    "import requests\n",
    "import json\n",
    "from pymongo import MongoClient\n",
    "import src.mylib\n",
    "\n",
    "Client = MongoClient('localhost:27017')\n",
    "_db=Client['ds_open_subwayPassengersDb'] #db created by mongo\n",
    "_table=_db['db_open_subwayTable'] #collection\n",
    "db=Client.ds_rest_subwayPassengers\n",
    "\n",
    "def saveJson(_fname,_data):\n",
    "    import io\n",
    "    with io.open(_fname, 'a', encoding='utf8') as json_file:\n",
    "        _j=json.dumps(_data, json_file, ensure_ascii=False, encoding='utf8')\n",
    "        json_file.write(_j+\"\\n\")\n",
    "\n",
    "def readJson(_fname):\n",
    "    for line in open(_fname, 'r').readlines():\n",
    "        _j=json.loads(line)\n",
    "        #print _j['id'],_j['text']\n",
    "        print _j['id']\n",
    "\n",
    "def saveDB(_data):\n",
    "    _table.insert_one(_data)\n",
    "\n",
    "def readDB():\n",
    "    for tweet in _table.find():\n",
    "        print tweet['id'],tweet['text']\n",
    "\n",
    "def saveFile(_fname,_data):\n",
    "    fp=open(_fname,'a')\n",
    "    fp.write(_data+\"\\n\")\n",
    "\n",
    "def doIt():\n",
    "    keyPath=os.path.join(os.getcwd(), 'src', 'key.properties')\n",
    "    key=src.mylib.getKey(keyPath)  \n",
    "    _key=key['dataseoul'] #KEY='73725.....'\n",
    "    _url='http://openAPI.seoul.go.kr:8088'\n",
    "    _type='json'\n",
    "    _service='CardSubwayStatsNew'\n",
    "    _start_index=1\n",
    "    _end_index=5\n",
    "    _use_mon='20151101'\n",
    "    _maxIter=20\n",
    "    _iter=0\n",
    "    _jfname='src/ds_open_subwayPassengers.json'\n",
    "    while _iter<_maxIter:\n",
    "        _api=os.path.join(_url,_key,_type,_service,str(_start_index),str(_end_index),_use_mon)\n",
    "        #print _api\n",
    "        r=requests.get(_api)\n",
    "        _json=r.json()\n",
    "        print _json\n",
    "        saveJson(_jfname,_json)\n",
    "        saveDB(_json)\n",
    "        _start_index+=5\n",
    "        _end_index+=5\n",
    "        _iter+=1\n",
    "\n",
    "if __name__ == \"__main__\":\n",
    "    doIt()"
   ]
  }
 ],
 "metadata": {
  "kernelspec": {
   "display_name": "Python 2",
   "language": "python",
   "name": "python2"
  },
  "language_info": {
   "codemirror_mode": {
    "name": "ipython",
    "version": 2
   },
   "file_extension": ".py",
   "mimetype": "text/x-python",
   "name": "python",
   "nbconvert_exporter": "python",
   "pygments_lexer": "ipython2",
   "version": "2.7.13"
  }
 },
 "nbformat": 4,
 "nbformat_minor": 2
}
