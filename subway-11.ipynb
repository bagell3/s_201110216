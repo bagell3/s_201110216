{
 "cells": [
  {
   "cell_type": "code",
   "execution_count": 1,
   "metadata": {
    "collapsed": false,
    "scrolled": true
   },
   "outputs": [
    {
     "name": "stdout",
     "output_type": "stream",
     "text": [
      "               Open     High      Low    Close  Volume  Adj Close\n",
      "Date                                                             \n",
      "2015-11-02  67900.0  68400.0  66800.0  68400.0  206300   62380.87\n",
      "2015-11-03  68600.0  69800.0  67600.0  69700.0  331900   63566.47\n",
      "2015-11-04  70900.0  71500.0  70000.0  70300.0  286900   64113.67\n",
      "2015-11-05  69800.0  70000.0  69100.0  69600.0  177600   63475.27\n",
      "2015-11-06  69500.0  69600.0  68900.0  69500.0  141000   63384.07\n",
      "2015-11-09  69300.0  69300.0  67600.0  67600.0  168800   61651.27\n",
      "2015-11-10  66700.0  68300.0  66200.0  67300.0  175600   61377.67\n"
     ]
    }
   ],
   "source": [
    "import datetime\n",
    "import pandas_datareader.data as web\n",
    "#import pandas.io.data as web\n",
    "start = datetime.datetime(2015,11,1)\n",
    "end = datetime.datetime(2015, 11, 10)\n",
    "soil = web.DataReader(\"010950.KS\", \"yahoo\", start, end)\n",
    "\n",
    "print soil"
   ]
  },
  {
   "cell_type": "code",
   "execution_count": 2,
   "metadata": {
    "collapsed": false,
    "scrolled": true
   },
   "outputs": [
    {
     "name": "stdout",
     "output_type": "stream",
     "text": [
      "                Open      High       Low     Close  Volume\n",
      "Date                                                      \n",
      "2015-11-02  257500.0  259500.0  254500.0  255500.0  153443\n",
      "2015-11-03  257500.0  259000.0  255000.0  255500.0  126434\n",
      "2015-11-04  254500.0  255000.0  250500.0  253000.0  180937\n",
      "2015-11-05  253000.0  256500.0  250500.0  254000.0   85396\n",
      "2015-11-06  253500.0  261000.0  253000.0  258000.0   88942\n",
      "2015-11-09  258500.0  258500.0  251000.0  252500.0   89752\n",
      "2015-11-10  251500.0  252000.0  248500.0  250000.0   79362\n"
     ]
    }
   ],
   "source": [
    "ncsoft = web.DataReader('KRX:036570', data_source='google', start='01/01/2015', end='09/02/2015')\n",
    "sds = web.DataReader('KRX:018260', data_source='google', start='11/01/2015', end='11/10/2015')\n",
    "\n",
    "print sds"
   ]
  },
  {
   "cell_type": "code",
   "execution_count": 3,
   "metadata": {
    "collapsed": false
   },
   "outputs": [
    {
     "name": "stdout",
     "output_type": "stream",
     "text": [
      "ArpltnInforInqireSvc\\getMinuDustFrcstDspth\n"
     ]
    }
   ],
   "source": [
    "import os\n",
    "SERVICE='ArpltnInforInqireSvc'\n",
    "OPERATION_NAME='getMinuDustFrcstDspth'\n",
    "params1=os.path.join(SERVICE,OPERATION_NAME)\n",
    "print params1"
   ]
  },
  {
   "cell_type": "code",
   "execution_count": 4,
   "metadata": {
    "collapsed": false
   },
   "outputs": [
    {
     "name": "stdout",
     "output_type": "stream",
     "text": [
      "dataTerm=month\n"
     ]
    }
   ],
   "source": [
    "import urllib\n",
    "_d=dict()\n",
    "\n",
    "#_d['stationName']='종로구'\n",
    "_d['dataTerm']='month'\n",
    "params2 = urllib.urlencode(_d)\n",
    "print params2"
   ]
  },
  {
   "cell_type": "code",
   "execution_count": 14,
   "metadata": {
    "collapsed": false,
    "scrolled": true
   },
   "outputs": [],
   "source": [
    "keyPath=os.path.join(os.getcwd(), 'src', 'key.properties')\n",
    "key=src.mylib.getKey(keyPath)\n",
    "params=params1+'?'+'serviceKey='+key['gokr']+'&'+params2"
   ]
  },
  {
   "cell_type": "code",
   "execution_count": 16,
   "metadata": {
    "collapsed": false
   },
   "outputs": [
    {
     "name": "stdout",
     "output_type": "stream",
     "text": [
      "http://openapi.airkorea.or.kr/openapi/services/rest/ArpltnInforInqireSvc\\getMinuDustFrcstDspth?serviceKey=WNL9y281Rn0LjcyCl3MyGhpxNA7OnTvhNjVkf7LhEz6MvBpDEpI07ZOGcnki9kaB8XfNdMeYWhLL7N%2BQZ237cQ%3D%3D&dataTerm=month\n"
     ]
    }
   ],
   "source": [
    "import urlparse\n",
    "_url='http://openapi.airkorea.or.kr/openapi/services/rest/ArpltnInforInqireSvc'\n",
    "url=urlparse.urljoin(_url,params)\n",
    "print url"
   ]
  },
  {
   "cell_type": "code",
   "execution_count": 34,
   "metadata": {
    "collapsed": false
   },
   "outputs": [
    {
     "name": "stdout",
     "output_type": "stream",
     "text": [
      "\n"
     ]
    }
   ],
   "source": [
    "\n",
    "import os\n",
    "import requests\n",
    "import urlparse\n",
    "import urllib\n",
    "import src.mylib\n",
    "#!/usr/bin/env python\n",
    "# coding: utf-8\n",
    "def doIt():\n",
    "    SERVICE='ArpltnInforInqireSvc'\n",
    "    OPERATION_NAME='getMinuDustFrcstDspth'\n",
    "    params1=os.path.join(SERVICE,OPERATION_NAME)\n",
    "    _d=dict()\n",
    "    _d['dataTerm']='month'\n",
    "    params2 = urllib.urlencode(_d)\n",
    "    keyPath=os.path.join(os.getcwd(), 'src', 'key.properties')\n",
    "    key=src.mylib.getKey(keyPath)\n",
    "    keygokr=key['gokr'] # keygokr='8Bx4C1%2B...'\n",
    "    params=params1+'?'+'serviceKey='+keygokr+'&'+params2\n",
    "    _url='http://openapi.airkorea.or.kr/openapi/services/rest/ArpltnInforInqireSvc'\n",
    "    url=urlparse.urljoin(_url,params)\n",
    "    data=requests.get(url).text\n",
    "    print data[:10]\n",
    "    \n",
    "if __name__ == \"__main__\":\n",
    "    doIt()"
   ]
  },
  {
   "cell_type": "code",
   "execution_count": 35,
   "metadata": {
    "collapsed": false
   },
   "outputs": [
    {
     "ename": "NameError",
     "evalue": "name 'data' is not defined",
     "output_type": "error",
     "traceback": [
      "\u001b[0;31m---------------------------------------------------------------------------\u001b[0m",
      "\u001b[0;31mNameError\u001b[0m                                 Traceback (most recent call last)",
      "\u001b[0;32m<ipython-input-35-89a99d5e280f>\u001b[0m in \u001b[0;36m<module>\u001b[0;34m()\u001b[0m\n\u001b[0;32m----> 1\u001b[0;31m \u001b[1;32mprint\u001b[0m \u001b[0mdata\u001b[0m\u001b[1;33m[\u001b[0m\u001b[1;33m:\u001b[0m\u001b[1;36m10\u001b[0m\u001b[1;33m]\u001b[0m\u001b[1;33m\u001b[0m\u001b[0m\n\u001b[0m",
      "\u001b[0;31mNameError\u001b[0m: name 'data' is not defined"
     ]
    }
   ],
   "source": [
    "print data[:10]"
   ]
  },
  {
   "cell_type": "code",
   "execution_count": 32,
   "metadata": {
    "collapsed": false
   },
   "outputs": [
    {
     "name": "stdout",
     "output_type": "stream",
     "text": [
      "http://openapi.airkorea.or.kr/openapi/services/rest/ArpltnInforInqireSvc\\getMinuDustFrcstDspth?serviceKey=WNL9y281Rn0LjcyCl3MyGhpxNA7OnTvhNjVkf7LhEz6MvBpDEpI07ZOGcnki9kaB8XfNdMeYWhLL7N%2BQZ237cQ%3D%3D&dataTerm=month\n"
     ]
    }
   ],
   "source": [
    "print url"
   ]
  },
  {
   "cell_type": "code",
   "execution_count": 36,
   "metadata": {
    "collapsed": false
   },
   "outputs": [
    {
     "name": "stderr",
     "output_type": "stream",
     "text": [
      "Traceback (most recent call last):\n",
      "  File \"src/ds_open_gokr_ex.py\", line 5, in <module>\n",
      "    import src.mylib\n",
      "ImportError: No module named src.mylib\n"
     ]
    }
   ],
   "source": [
    "!python src/ds_open_gokr_ex.py"
   ]
  }
 ],
 "metadata": {
  "kernelspec": {
   "display_name": "Python 2",
   "language": "python",
   "name": "python2"
  },
  "language_info": {
   "codemirror_mode": {
    "name": "ipython",
    "version": 2
   },
   "file_extension": ".py",
   "mimetype": "text/x-python",
   "name": "python",
   "nbconvert_exporter": "python",
   "pygments_lexer": "ipython2",
   "version": "2.7.13"
  }
 },
 "nbformat": 4,
 "nbformat_minor": 2
}
