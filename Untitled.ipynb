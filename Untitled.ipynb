{
 "cells": [
  {
   "cell_type": "code",
   "execution_count": 4,
   "metadata": {
    "collapsed": false
   },
   "outputs": [
    {
     "name": "stdout",
     "output_type": "stream",
     "text": [
      "<Element 'wikimedia' at 0x54e1e48>\n"
     ]
    }
   ],
   "source": [
    "import xml.etree.ElementTree as ET\n",
    "tree=ET.parse(os.path.join('src','my.xml'))\n",
    "root=tree.getroot()\n",
    "print root"
   ]
  },
  {
   "cell_type": "code",
   "execution_count": 5,
   "metadata": {
    "collapsed": false
   },
   "outputs": [
    {
     "data": {
      "text/plain": [
       "xml.etree.ElementTree.ElementTree"
      ]
     },
     "execution_count": 5,
     "metadata": {},
     "output_type": "execute_result"
    }
   ],
   "source": [
    "type(tree)"
   ]
  },
  {
   "cell_type": "code",
   "execution_count": 6,
   "metadata": {
    "collapsed": true
   },
   "outputs": [],
   "source": [
    "import lxml\n",
    "import lxml.etree\n",
    "\n",
    "tree=lxml.etree.parse(os.path.join('src','my.xml'))\n",
    "root=tree.getroot()"
   ]
  },
  {
   "cell_type": "code",
   "execution_count": 10,
   "metadata": {
    "collapsed": false
   },
   "outputs": [
    {
     "data": {
      "text/plain": [
       "lxml.etree._ElementTree"
      ]
     },
     "execution_count": 10,
     "metadata": {},
     "output_type": "execute_result"
    }
   ],
   "source": [
    "type(tree)"
   ]
  },
  {
   "cell_type": "code",
   "execution_count": 11,
   "metadata": {
    "collapsed": false
   },
   "outputs": [
    {
     "name": "stdout",
     "output_type": "stream",
     "text": [
      "<type 'list'> 1\n"
     ]
    }
   ],
   "source": [
    "import lxml.html\n",
    "from lxml.cssselect import CSSSelector\n",
    "\n",
    "# construct a CSS Selector -> \n",
    "sel = CSSSelector('wikimedia')\n",
    "# Apply the selector to the DOM tree.\n",
    "nodes = sel(tree)\n",
    "print type(nodes),len(nodes)"
   ]
  },
  {
   "cell_type": "code",
   "execution_count": 12,
   "metadata": {
    "collapsed": false
   },
   "outputs": [
    {
     "name": "stdout",
     "output_type": "stream",
     "text": [
      "<wikimedia>\n",
      "  <projects>\n",
      "    <project name=\"Wikipedia\" launch=\"2001-01-05\">\n",
      "      <editions>\n",
      "        <edition language=\"English\">en.wikipedia.org</edition>\n",
      "        <edition language=\"German\">de.wikipedia.org</edition>\n",
      "        <edition language=\"French\">fr.wikipedia.org</edition>\n",
      "        <edition language=\"Polish\">pl.wikipedia.org</edition>\n",
      "        <edition language=\"Spanish\">es.wikipedia.org</edition>\n",
      "      </editions>\n",
      "    </project>\n",
      "    <project name=\"Wiktionary\" launch=\"2002-12-12\">\n",
      "      <editions>\n",
      "        <edition language=\"English\">en.wiktionary.org</edition>\n",
      "        <edition language=\"French\">fr.wiktionary.org</edition>\n",
      "        <edition language=\"Vietnamese\">vi.wiktionary.org</edition>\n",
      "        <edition language=\"Turkish\">tr.wiktionary.org</edition>\n",
      "        <edition language=\"Spanish\">es.wiktionary.org</edition>\n",
      "      </editions>\n",
      "    </project>\n",
      "  </projects>\n",
      "</wikimedia>\n"
     ]
    }
   ],
   "source": [
    "for node in nodes:\n",
    "    print lxml.html.tostring(node)"
   ]
  },
  {
   "cell_type": "code",
   "execution_count": 13,
   "metadata": {
    "collapsed": false
   },
   "outputs": [
    {
     "name": "stdout",
     "output_type": "stream",
     "text": [
      "Writing src/mypage3.html\n"
     ]
    }
   ],
   "source": [
    "%%writefile src/mypage3.html\n",
    "<!DOCTYPE html>\n",
    "<html>\n",
    "<head>\n",
    "    <meta charset=\"UTF-8\">\n",
    "    <title>My Home Page</title>\n",
    "    <style>\n",
    "        h1 {\n",
    "            text-align: center;\n",
    "            color:red;\n",
    "            font-family: 'Droid Sans', sans-serif;\n",
    "        };  \n",
    "    </style>\n",
    "</head>\n",
    "<body>\n",
    "    <h1>안녕하십니까</h1>\n",
    "    <p>오늘은 프로그래밍 하는 날...</p>\n",
    "    <p>Today we do programming...</p>\n",
    "\n",
    "    <div id=\"divid\">\n",
    "        <h2>Hello h2</h2>\n",
    "        <p>Here we use div id.</p>\n",
    "        <a href=\"https://www.example.com\">Visit example.com</a>\n",
    "    </div>\n",
    "    <div class=\"divclass\">\n",
    "        <h2>Welcome</h2>\n",
    "        <p>Here we use div class.</p>\n",
    "        <ul>\n",
    "            <li>first</li>\n",
    "            <li>second</li>\n",
    "        </ul>\n",
    "    </div>\n",
    "\n",
    "    <form action=\"\">\n",
    "    Email <input type=\"email\" value=\"emailvalue\" name=\"emailname\" id=\"emailid\"\n",
    "        class=\"emailclass\" style=\"background-color: green;\"required>\n",
    "    Zip Code <input type=\"number\" name=\"zipname\" required>\n",
    "    <textarea rows=\"4\" columns=\"50\"></textarea>\n",
    "    <input type=\"submit\" value=\"Submit\">\n",
    "    </form>\n",
    "</body>\n",
    "</html>"
   ]
  },
  {
   "cell_type": "code",
   "execution_count": 14,
   "metadata": {
    "collapsed": false
   },
   "outputs": [
    {
     "data": {
      "text/html": [
       "<h1>안녕하십니까</h1>\n",
       "<p>오늘은 프로그래밍 하는 날...</p>\n",
       "<p>Today we do programming...</p>\n",
       "\n",
       "<div id=\"divid\">\n",
       "    <h2>Hello h2</h2>\n",
       "    <p>Here we use div id.</p>\n",
       "</div>\n",
       "<div class=\"divclass\">\n",
       "    <h2>Welcome</h2>\n",
       "    <p>Here we use div class.</p>\n",
       "    <a href=\"https://www.example.com\">Visit example.com</a>\n",
       "</div>\n",
       "\n",
       "<form action=\"\">\n",
       "Email <input type=\"email\" value=\"emailvalue\" name=\"emailname\" id=\"emailid\"\n",
       "    class=\"emailclass\" style=\"background-color: green;\"required>\n",
       "Zip Code <input type=\"number\" name=\"zipname\" required>\n",
       "<textarea rows=\"4\" columns=\"50\"></textarea>\n",
       "<input type=\"submit\" value=\"Submit\">\n",
       "</form>"
      ],
      "text/plain": [
       "<IPython.core.display.HTML object>"
      ]
     },
     "metadata": {},
     "output_type": "display_data"
    }
   ],
   "source": [
    "%%html\n",
    "<h1>안녕하십니까</h1>\n",
    "<p>오늘은 프로그래밍 하는 날...</p>\n",
    "<p>Today we do programming...</p>\n",
    "\n",
    "<div id=\"divid\">\n",
    "    <h2>Hello h2</h2>\n",
    "    <p>Here we use div id.</p>\n",
    "</div>\n",
    "<div class=\"divclass\">\n",
    "    <h2>Welcome</h2>\n",
    "    <p>Here we use div class.</p>\n",
    "    <a href=\"https://www.example.com\">Visit example.com</a>\n",
    "</div>\n",
    "\n",
    "<form action=\"\">\n",
    "Email <input type=\"email\" value=\"emailvalue\" name=\"emailname\" id=\"emailid\"\n",
    "    class=\"emailclass\" style=\"background-color: green;\"required>\n",
    "Zip Code <input type=\"number\" name=\"zipname\" required>\n",
    "<textarea rows=\"4\" columns=\"50\"></textarea>\n",
    "<input type=\"submit\" value=\"Submit\">\n",
    "</form>"
   ]
  },
  {
   "cell_type": "code",
   "execution_count": 15,
   "metadata": {
    "collapsed": true
   },
   "outputs": [],
   "source": [
    "htmlstr='''<form action=\"\">\n",
    "    Email <input type=\"email\" value=\"email\" name=\"email\" id=\"email\"\n",
    "        class=\"input_email\" style=\"background-color: green;\">\n",
    "    <textarea rows=\"4\" columns=\"50\"></textarea>\n",
    "</form>\n",
    "'''"
   ]
  },
  {
   "cell_type": "code",
   "execution_count": 16,
   "metadata": {
    "collapsed": true
   },
   "outputs": [],
   "source": [
    "import lxml.etree\n",
    "import StringIO\n",
    "\n",
    "parser=lxml.etree.HTMLParser()\n",
    "tree=lxml.etree.parse(StringIO.StringIO(htmlstr),parser)"
   ]
  },
  {
   "cell_type": "code",
   "execution_count": 17,
   "metadata": {
    "collapsed": false
   },
   "outputs": [
    {
     "name": "stdout",
     "output_type": "stream",
     "text": [
      "<type 'list'> 1\n",
      "None\n"
     ]
    }
   ],
   "source": [
    "from lxml.cssselect import CSSSelector\n",
    "sel = CSSSelector('#email')\n",
    "# Apply the selector to the DOM tree.\n",
    "nodes = sel(tree)\n",
    "print type(nodes),len(nodes)\n",
    "for e in nodes:\n",
    "    print e.text"
   ]
  },
  {
   "cell_type": "code",
   "execution_count": 18,
   "metadata": {
    "collapsed": true
   },
   "outputs": [],
   "source": [
    "htmlstr=\"\"\"<!DOCTYPE html>\n",
    "<html>\n",
    "<head>\n",
    "<meta charset=\"UTF-8\">\n",
    "<title>My Home Page</title>\n",
    "</head>\n",
    "<body>\n",
    "<h1>안녕하십니까</h1>\n",
    "<p>오늘은 프로그래밍 하는 날...</p>\n",
    "<p>Today we do programming...</p>\n",
    "</body>\n",
    "</html>\"\"\""
   ]
  },
  {
   "cell_type": "code",
   "execution_count": 19,
   "metadata": {
    "collapsed": true
   },
   "outputs": [],
   "source": [
    "import lxml.html\n",
    "from lxml.cssselect import CSSSelector\n",
    "\n",
    "_html = lxml.html.fromstring(htmlstr)"
   ]
  },
  {
   "cell_type": "code",
   "execution_count": 20,
   "metadata": {
    "collapsed": false
   },
   "outputs": [
    {
     "name": "stdout",
     "output_type": "stream",
     "text": [
      "<html>\n",
      "<head>\n",
      "<meta charset=\"UTF-8\">\n",
      "<title>My Home Page</title>\n",
      "</head>\n",
      "<body>\n",
      "<h1>&#50504;&#45397;&#54616;&#49901;&#45768;&#44620;</h1>\n",
      "<p>&#50724;&#45720;&#51008; &#54532;&#47196;&#44536;&#47000;&#48141; &#54616;&#45716; &#45216;...</p>\n",
      "<p>Today we do programming...</p>\n",
      "</body>\n",
      "</html>\n"
     ]
    }
   ],
   "source": [
    "print lxml.html.tostring(_html)"
   ]
  },
  {
   "cell_type": "code",
   "execution_count": 21,
   "metadata": {
    "collapsed": false
   },
   "outputs": [
    {
     "name": "stdout",
     "output_type": "stream",
     "text": [
      "[<Element p at 0x576eef8>, <Element p at 0x576eea8>]\n"
     ]
    }
   ],
   "source": [
    "sel = CSSSelector('body p')\n",
    "nodes = sel(_html)\n",
    "print nodes\n",
    "    "
   ]
  },
  {
   "cell_type": "code",
   "execution_count": 22,
   "metadata": {
    "collapsed": false
   },
   "outputs": [
    {
     "name": "stdout",
     "output_type": "stream",
     "text": [
      "오늘은 프로그래밍 하는 날...\n",
      "Today we do programming...\n"
     ]
    }
   ],
   "source": [
    "for node in nodes:\n",
    "    print node.text"
   ]
  },
  {
   "cell_type": "code",
   "execution_count": 23,
   "metadata": {
    "collapsed": false
   },
   "outputs": [
    {
     "name": "stdout",
     "output_type": "stream",
     "text": [
      "[<Element p at 0x576ec28>]\n"
     ]
    }
   ],
   "source": [
    "_html = lxml.html.fromstring(htmlstr)\n",
    "sel = CSSSelector('body > p:nth-child(2)')\n",
    "nodes = sel(_html)\n",
    "print nodes"
   ]
  },
  {
   "cell_type": "code",
   "execution_count": 24,
   "metadata": {
    "collapsed": false
   },
   "outputs": [
    {
     "data": {
      "text/plain": [
       "lxml.etree._ElementTree"
      ]
     },
     "execution_count": 24,
     "metadata": {},
     "output_type": "execute_result"
    }
   ],
   "source": [
    "type(tree)"
   ]
  },
  {
   "cell_type": "code",
   "execution_count": 28,
   "metadata": {
    "collapsed": false
   },
   "outputs": [
    {
     "name": "stdout",
     "output_type": "stream",
     "text": [
      "47426\n"
     ]
    }
   ],
   "source": [
    "import requests\n",
    "rResponse = requests.get('http://python.org/')\n",
    "_html = rResponse.text\n",
    "print len(_html)"
   ]
  },
  {
   "cell_type": "code",
   "execution_count": 29,
   "metadata": {
    "collapsed": false
   },
   "outputs": [
    {
     "name": "stdout",
     "output_type": "stream",
     "text": [
      "47426\n"
     ]
    }
   ],
   "source": [
    "import urllib\n",
    "uResponse = urllib.urlopen('http://python.org/')\n",
    "_html = uResponse.read()\n",
    "print len(_html)"
   ]
  },
  {
   "cell_type": "code",
   "execution_count": 30,
   "metadata": {
    "collapsed": false
   },
   "outputs": [
    {
     "name": "stdout",
     "output_type": "stream",
     "text": [
      "<type 'str'>\n"
     ]
    }
   ],
   "source": [
    "print type(_html)"
   ]
  },
  {
   "cell_type": "code",
   "execution_count": 31,
   "metadata": {
    "collapsed": false
   },
   "outputs": [
    {
     "name": "stdout",
     "output_type": "stream",
     "text": [
      "{'Content-Length': '47426', 'Via': '1.1 varnish', 'X-Cache': 'HIT', 'Accept-Ranges': 'bytes', 'X-Timer': 'S1490686933.592293,VS0,VE0', 'Vary': 'Cookie', 'X-Served-By': 'cache-nrt6126-NRT', 'Server': 'nginx', 'Connection': 'keep-alive', 'Age': '2204', 'X-Cache-Hits': '53', 'Public-Key-Pins': 'max-age=600; includeSubDomains; pin-sha256=\"WoiWRyIOVNa9ihaBciRSC7XHjliYS9VwUGOIud4PB18=\"; pin-sha256=\"5C8kvU039KouVrl52D0eZSGf4Onjo4Khs8tmyTlV3nU=\"; pin-sha256=\"5C8kvU039KouVrl52D0eZSGf4Onjo4Khs8tmyTlV3nU=\"; pin-sha256=\"lCppFqbkrlJ3EcVFAkeip0+44VaoJUymbnOaEUk7tEU=\"; pin-sha256=\"TUDnr0MEoJ3of7+YliBMBVFB4/gJsv5zO7IxD9+YoWI=\"; pin-sha256=\"x4QzPSC810K5/cMjb05Qm4k3Bw5zBn4lTdO/nEW/Td4=\";', 'Strict-Transport-Security': 'max-age=63072000; includeSubDomains', 'Date': 'Tue, 28 Mar 2017 07:42:13 GMT', 'X-Frame-Options': 'SAMEORIGIN', 'Content-Type': 'text/html; charset=utf-8', 'X-Clacks-Overhead': 'GNU Terry Pratchett'}\n"
     ]
    }
   ],
   "source": [
    "print rResponse.headers"
   ]
  },
  {
   "cell_type": "code",
   "execution_count": 32,
   "metadata": {
    "collapsed": false
   },
   "outputs": [
    {
     "name": "stdout",
     "output_type": "stream",
     "text": [
      "Server: nginx\r\n",
      "Content-Type: text/html; charset=utf-8\r\n",
      "X-Frame-Options: SAMEORIGIN\r\n",
      "X-Clacks-Overhead: GNU Terry Pratchett\r\n",
      "Content-Length: 47426\r\n",
      "Accept-Ranges: bytes\r\n",
      "Date: Tue, 28 Mar 2017 07:43:41 GMT\r\n",
      "Via: 1.1 varnish\r\n",
      "Age: 2293\r\n",
      "Connection: close\r\n",
      "X-Served-By: cache-nrt6126-NRT\r\n",
      "X-Cache: HIT\r\n",
      "X-Cache-Hits: 59\r\n",
      "X-Timer: S1490687021.855637,VS0,VE0\r\n",
      "Vary: Cookie\r\n",
      "Public-Key-Pins: max-age=600; includeSubDomains; pin-sha256=\"WoiWRyIOVNa9ihaBciRSC7XHjliYS9VwUGOIud4PB18=\"; pin-sha256=\"5C8kvU039KouVrl52D0eZSGf4Onjo4Khs8tmyTlV3nU=\"; pin-sha256=\"5C8kvU039KouVrl52D0eZSGf4Onjo4Khs8tmyTlV3nU=\"; pin-sha256=\"lCppFqbkrlJ3EcVFAkeip0+44VaoJUymbnOaEUk7tEU=\"; pin-sha256=\"TUDnr0MEoJ3of7+YliBMBVFB4/gJsv5zO7IxD9+YoWI=\"; pin-sha256=\"x4QzPSC810K5/cMjb05Qm4k3Bw5zBn4lTdO/nEW/Td4=\";\r\n",
      "Strict-Transport-Security: max-age=63072000; includeSubDomains\r\n",
      "\n"
     ]
    }
   ],
   "source": [
    "print uResponse.info()"
   ]
  },
  {
   "cell_type": "code",
   "execution_count": 33,
   "metadata": {
    "collapsed": false
   },
   "outputs": [
    {
     "name": "stdout",
     "output_type": "stream",
     "text": [
      "http url은 몇 개? 44\n",
      "0 http://www.ie6countdown.com/\n",
      "1 http://browsehappy.com/\n",
      "2 http://www.google.com/chromeframe/?redirect=true\n",
      "3 http://plus.google.com/+Python\n",
      "4 http://www.facebook.com/pythonlang?fref=ts\n",
      "5 http://twitter.com/ThePSF\n",
      "6 http://brochure.getpython.info/\n",
      "7 http://wiki.python.org/moin/Languages\n",
      "8 http://python.org/dev/peps/\n",
      "9 http://planetpython.org/\n",
      "10 http://pyfound.blogspot.com/\n",
      "11 http://pycon.blogspot.com/\n",
      "12 http://docs.python.org/3/tutorial/introduction.html#using-python-as-a-calculator\n",
      "13 http://blog.python.org\n",
      "14 http://feedproxy.google.com/~r/PythonInsider/~3/C-xfWJKP0-A/python-361-is-now-available.html\n",
      "15 http://feedproxy.google.com/~r/PythonInsider/~3/w2AW2NRSOEM/python-361rc1-is-now-available-for.html\n",
      "16 http://feedproxy.google.com/~r/PythonInsider/~3/NeIHRAidlpc/python-353-and-346-are-now-available.html\n",
      "17 http://feedproxy.google.com/~r/PythonInsider/~3/UoiMThSwgQM/python-353rc1-and-python-346rc1-are-now.html\n",
      "18 http://feedproxy.google.com/~r/PythonInsider/~3/4gOtq8ChYHk/python-360-is-now-available.html\n",
      "19 http://www.djangoproject.com/\n",
      "20 http://www.pylonsproject.org/\n",
      "21 http://bottlepy.org\n",
      "22 http://tornadoweb.org\n",
      "23 http://flask.pocoo.org/\n",
      "24 http://www.web2py.com/\n",
      "25 http://wiki.python.org/moin/TkInter\n",
      "26 http://www.riverbankcomputing.co.uk/software/pyqt/intro\n",
      "27 http://www.wxpython.org/\n",
      "28 http://www.scipy.org\n",
      "29 http://pandas.pydata.org/\n",
      "30 http://ipython.org\n",
      "31 http://buildbot.net/\n",
      "32 http://trac.edgewall.org/\n",
      "33 http://roundup.sourceforge.net/\n",
      "34 http://www.ansible.com\n",
      "35 http://www.saltstack.com\n",
      "36 http://brochure.getpython.info/\n",
      "37 http://wiki.python.org/moin/Languages\n",
      "38 http://python.org/dev/peps/\n",
      "39 http://planetpython.org/\n",
      "40 http://pyfound.blogspot.com/\n",
      "41 http://pycon.blogspot.com/\n",
      "42 http://docs.python.org/devguide/\n",
      "43 http://bugs.python.org/\n"
     ]
    }
   ],
   "source": [
    "import re\n",
    "#p=re.compile('http://.+\"')\n",
    "p=re.compile('href=\"(http://.*?)\"')\n",
    "nodes=p.findall(_html)\n",
    "print \"http url은 몇 개?\",len(nodes)\n",
    "for i, node in enumerate(nodes):\n",
    "    print i, node"
   ]
  },
  {
   "cell_type": "code",
   "execution_count": 34,
   "metadata": {
    "collapsed": false
   },
   "outputs": [
    {
     "name": "stdout",
     "output_type": "stream",
     "text": [
      "Functions Defined\n",
      "Compound Data Types\n",
      "Intuitive Interpretation\n",
      "Quick &amp; Easy to Learn\n",
      "All the Flow You&rsquo;d Expect\n"
     ]
    }
   ],
   "source": [
    "import re\n",
    "p=re.compile('<h1>(.*?)</h1>')\n",
    "h1tags=p.findall(_html)\n",
    "for tag in h1tags:\n",
    "    print tag"
   ]
  },
  {
   "cell_type": "code",
   "execution_count": 38,
   "metadata": {
    "collapsed": false
   },
   "outputs": [
    {
     "name": "stdout",
     "output_type": "stream",
     "text": [
      "18\n",
      "<strong>Notice:</strong> While Javascript is not essential for this website, your interaction with the content will be limited. Please turn Javascript on for the full experience. \n"
     ]
    }
   ],
   "source": [
    "import re\n",
    "p=re.compile('<p>(.*?)</p>')\n",
    "ptags=p.findall(_html)\n",
    "print len(ptags)\n",
    "print ptags[0]"
   ]
  },
  {
   "cell_type": "code",
   "execution_count": null,
   "metadata": {
    "collapsed": true
   },
   "outputs": [],
   "source": []
  }
 ],
 "metadata": {
  "kernelspec": {
   "display_name": "Python 2",
   "language": "python",
   "name": "python2"
  },
  "language_info": {
   "codemirror_mode": {
    "name": "ipython",
    "version": 2
   },
   "file_extension": ".py",
   "mimetype": "text/x-python",
   "name": "python",
   "nbconvert_exporter": "python",
   "pygments_lexer": "ipython2",
   "version": "2.7.13"
  }
 },
 "nbformat": 4,
 "nbformat_minor": 2
}
