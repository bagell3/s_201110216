{
 "cells": [
  {
   "cell_type": "code",
   "execution_count": 1,
   "metadata": {
    "collapsed": false
   },
   "outputs": [
    {
     "name": "stdout",
     "output_type": "stream",
     "text": [
      "Writing src/ds_web_crawl_ieee.py\n"
     ]
    }
   ],
   "source": [
    "%%writefile src/ds_web_crawl_ieee.py\n",
    "# coding: utf-8\n",
    "import lxml.html\n",
    "from lxml.cssselect import CSSSelector\n",
    "import requests\n",
    "r = requests.get('http://www.ieee.org/conferences_events/conferences/search/index.html')\n",
    "\n",
    "html = lxml.html.fromstring(r.text)\n",
    "sel=CSSSelector('div.content-r-full table.nogrid-nopad tr p>a[href]')\n",
    "nodes = sel(html)\n",
    "for node in nodes:\n",
    "    print node.text\n",
    "    print \"----------\""
   ]
  },
  {
   "cell_type": "code",
   "execution_count": 1,
   "metadata": {
    "collapsed": false
   },
   "outputs": [
    {
     "name": "stdout",
     "output_type": "stream",
     "text": [
      "Writing src/ds_web_crawl234_1.py\n"
     ]
    }
   ],
   "source": [
    "%%writefile src/ds_web_crawl234_1.py\n",
    "from bs4 import BeautifulSoup\n",
    "import urllib\n",
    "\n",
    "html = urllib.urlopen(\"https://www.python.org/\")\n",
    "soup = BeautifulSoup(html,'lxml')\n",
    "_href = soup.findAll('a')\n",
    "n=0\n",
    "for line in _href:\n",
    "    if 'http://' in line['href']:\n",
    "        if n<50:\n",
    "            print n, line['href']\n",
    "        n+=1\n",
    "print \"total: \", n"
   ]
  },
  {
   "cell_type": "code",
   "execution_count": 2,
   "metadata": {
    "collapsed": false
   },
   "outputs": [
    {
     "name": "stdout",
     "output_type": "stream",
     "text": [
      "Overwriting src/ds_web_crawl234_1.py\n"
     ]
    }
   ],
   "source": [
    "%%writefile src/ds_web_crawl234_1.py\n",
    "from bs4 import BeautifulSoup\n",
    "import urllib\n",
    "\n",
    "html = urllib.urlopen(\"https://www.python.org/\")\n",
    "soup = BeautifulSoup(html,'lxml')\n",
    "_href = soup.findAll('a')\n",
    "n=0\n",
    "for line in _href:\n",
    "    if 'http://' in line['href']:\n",
    "        if n<50:\n",
    "            print n, line['href']\n",
    "        n+=1\n",
    "print \"total: \", n"
   ]
  },
  {
   "cell_type": "code",
   "execution_count": 3,
   "metadata": {
    "collapsed": false
   },
   "outputs": [
    {
     "name": "stdout",
     "output_type": "stream",
     "text": [
      "Writing src/ds_web_crawl234_5.py\n"
     ]
    }
   ],
   "source": [
    "%%writefile src/ds_web_crawl234_5.py\n",
    "import lxml.html\n",
    "from lxml.cssselect import CSSSelector\n",
    "import requests\n",
    "link=requests.get('http://www.ieee.org/conferences_events/conferences/search/index.html')\n",
    "\n",
    "html = lxml.html.fromstring(link.text)\n",
    "study = CSSSelector('div.content-r-full table.nogrid-nopad tr p>a[href]')\n",
    "lines = study(html)\n",
    "n=0\n",
    "for line in lines:\n",
    "    if n%3 == 0:\n",
    "        print \"Conference name: \",line.text\n",
    "        print \"=============\"\n",
    "        n+=1\n",
    "    elif n%3 ==1:\n",
    "        print \"Conference Date: \",line.text\n",
    "        print \"=============\"\n",
    "        n+=1\n",
    "    elif n%3 ==2:\n",
    "        print \"Location: \",line.text\n",
    "        print \"=============\"\n",
    "        n+=1"
   ]
  },
  {
   "cell_type": "code",
   "execution_count": 7,
   "metadata": {
    "collapsed": false
   },
   "outputs": [
    {
     "name": "stdout",
     "output_type": "stream",
     "text": [
      "Overwriting src/ds_web_crawl_kbaseball.py\n"
     ]
    }
   ],
   "source": [
    "%%writefile src/ds_web_crawl_kbaseball.py\n",
    "# coding: utf-8\n",
    "import requests\n",
    "import lxml.etree\n",
    "\n",
    "def getkb():\n",
    "    r = requests.get('http://www.kbreport.com/main')\n",
    "    _htmlTree = lxml.etree.HTML(r.text)\n",
    "    nodes = _htmlTree.xpath(\"//div[@class='team-rank-box']//table[@class='team-rank']//tr\")\n",
    "    print u\"테이블 행 갯수: \", len(nodes)\n",
    "    counter=0\n",
    "    for teams in nodes:\n",
    "        for cols in teams:\n",
    "            if cols.xpath('.//a/text()'):\n",
    "                print cols.xpath('.//a/text()')[0],\n",
    "            else:\n",
    "                print cols.text.strip(),\n",
    "        print\n",
    "\n",
    "def main():\n",
    "    getkb()\n",
    "\n",
    "if __name__ == \"__main__\":\n",
    "    main()"
   ]
  },
  {
   "cell_type": "code",
   "execution_count": 6,
   "metadata": {
    "collapsed": false
   },
   "outputs": [
    {
     "name": "stdout",
     "output_type": "stream",
     "text": [
      "테이블 행 갯수:  11\n",
      "순위 팀명 승 무 패 승률 게임차 득점 실점 연속\n",
      "1 LG 3 0 0 1.000 0.0 19 6 3승\n",
      "1 kt 3 0 0 1.000 0.0 13 3 3승\n",
      "3 두산 2 0 1 0.667 1.0 13 10 1승\n",
      "3 KIA 2 0 1 0.667 1.0 19 25 1패\n",
      "3 롯데 2 0 1 0.667 1.0 20 10 2승\n",
      "6 삼성 1 0 2 0.333 2.0 25 19 1승\n",
      "6 NC 1 0 2 0.333 2.0 10 20 2패\n",
      "6 한화 1 0 2 0.333 2.0 10 13 1패\n",
      "9 넥센 0 0 3 0.000 3.0 6 19 3패\n",
      "9 SK 0 0 3 0.000 3.0 3 13 3패\n"
     ]
    }
   ],
   "source": [
    "import requests\n",
    "import lxml.etree\n",
    "\n",
    "r = requests.get('http://www.kbreport.com/main')\n",
    "_htmlTree = lxml.etree.HTML(r.text)\n",
    "nodes = _htmlTree.xpath(\"//div[@class='team-rank-box']//table[@class='team-rank']//tr\")\n",
    "print \"테이블 행 갯수: \", len(nodes)\n",
    "counter=0\n",
    "for teams in nodes:\n",
    "    for cols in teams:\n",
    "        if cols.xpath('.//a/text()'):\n",
    "            print cols.xpath('.//a/text()')[0],\n",
    "        else:\n",
    "            print cols.text.strip(),\n",
    "    print"
   ]
  }
 ],
 "metadata": {
  "kernelspec": {
   "display_name": "Python 2",
   "language": "python",
   "name": "python2"
  },
  "language_info": {
   "codemirror_mode": {
    "name": "ipython",
    "version": 2
   },
   "file_extension": ".py",
   "mimetype": "text/x-python",
   "name": "python",
   "nbconvert_exporter": "python",
   "pygments_lexer": "ipython2",
   "version": "2.7.13"
  }
 },
 "nbformat": 4,
 "nbformat_minor": 2
}
